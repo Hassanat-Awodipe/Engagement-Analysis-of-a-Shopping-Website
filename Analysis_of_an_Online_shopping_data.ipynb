{
 "cells": [
  {
   "cell_type": "markdown",
   "metadata": {
    "colab_type": "text",
    "id": "view-in-github"
   },
   "source": [
    "<a href=\"https://colab.research.google.com/github/Hassanat-Awodipe/DPhi_Bootcamp_Projects/blob/main/Analysis_of_an_Online_shopping_data.ipynb\" target=\"_parent\"><img src=\"https://colab.research.google.com/assets/colab-badge.svg\" alt=\"Open In Colab\"/></a>"
   ]
  },
  {
   "cell_type": "markdown",
   "metadata": {
    "id": "gAcWVKAu7-XY"
   },
   "source": [
    "# DPhi Pandas Assignment Details\n",
    "\n",
    "Dear Learner, \n",
    "\n",
    "Congratulations, you have studied Pandas all the way through the end of this bootcamp!!! This is the final graded hands-on exercise where you will be accomplishing the below mentioned task."
   ]
  },
  {
   "cell_type": "markdown",
   "metadata": {
    "id": "rwrGCwC28gYK"
   },
   "source": [
    "# Step 1: Select a Dataset of your choice\n",
    "\n",
    "*   https://www.kdnuggets.com/datasets/index.html\n",
    "*   https://dphi.tech/challenges/#past \n",
    "* https://pub.towardsai.net/best-datasets-for-machine-learning-data-science-computer-vision-nlp-ai-c9541058cf4f  \n",
    "* https://medium.com/analytics-vidhya/top-100-open-source-datasets-for-data-science-cd5a8d67cc3d\n",
    "\n",
    "\n",
    "or you can pick any dataset of your interest on the internet and add reference to it"
   ]
  },
  {
   "cell_type": "markdown",
   "metadata": {
    "id": "BSzUqejV4rCr"
   },
   "source": [
    "# Evaluation Criteria\n",
    "\n",
    "Your submission will be evaluated using the following criteria:\n",
    "\n",
    "* You must ensure that the dataset is tabular.  \n",
    "* You must ask and answer at least 3 questions about the dataset\n",
    "*   Your submission must include explanations using markdown cells, apart from the code.\n",
    "*   Your work must not be plagiarized i.e. copied for somewhere else."
   ]
  },
  {
   "cell_type": "code",
   "execution_count": 1,
   "metadata": {
    "id": "NJ1Jr5bY9koD"
   },
   "outputs": [],
   "source": [
    "import numpy as np\n",
    "import pandas as pd\n",
    "import matplotlib.pyplot as plt\n",
    "%matplotlib inline"
   ]
  },
  {
   "cell_type": "code",
   "execution_count": 2,
   "metadata": {
    "id": "WfIwM138OK2z"
   },
   "outputs": [],
   "source": [
    "import warnings\n",
    "warnings.filterwarnings(\"ignore\")"
   ]
  },
  {
   "cell_type": "markdown",
   "metadata": {
    "id": "eLOhLQSqcBKm"
   },
   "source": [
    "# **INTRODUCTION**:\n",
    "\n",
    "This is the dataset for an online shoppig website. Each entry is for a unique session, independent of the user.\n",
    "\n",
    "A session is a group of user interactions with your website that takes place within a given time frame. A single user can open multiple sessions but not concurrently. Opening multiple pages on different tabs of the same website is counted as a single session. By default, a session ends based on time (after 30mins of inactivity or at midnight or campaign change (if a user arrives via one campaign, leaves, and then comes back via a different campaign)\n",
    "\n",
    "The administrative, informational and product related describe the types of pages of the website. The duration represents the amount of time spent on that particular page.\n",
    "\n",
    "According to Google analytics, bounce rate is the percentage of all sessions on your site in which users viewed only a single page(first page) and triggered only a single request to the Analytics server. Exit Rate is the percentage that were the last in the session, for all pageviews that lead to the page.\n",
    "\n",
    "For example, a user finds their way to a page on your website and then closes the website without clicking any button on it. Here the bounce rate is a 100%. If the user decides to click a button or two more buttons that lead to other pages of the website then the bounce rate for that first page no longer exists. An exit rate would exist for the last page before he closes the website. There is neither a bounce nor exit rate for pages in between. This is not to say that bounce and exit rates are mutually exclusive but it will depend on the number of sessions considered.\n",
    "\n",
    "Page Value is the average value for a page that a user visited before landing on the goal page or completing an Ecommerce transaction (or both). This value is intended to give you an idea of which page in your site contributed more to your site's revenue. If the session does not end up as a revenue, page value will be still be recorded as long as the user makes it to the goal page. Each page has its own pagevalue, if set.\n",
    "\n",
    "\n",
    "All definitions have been gotten from [Google Analytics](https://support.google.com/analytics/?hl=en#topic=10737980)\n"
   ]
  },
  {
   "cell_type": "markdown",
   "metadata": {
    "id": "koLoxXjPnc59"
   },
   "source": [
    "# **OBJECTIVE**: \n",
    "\n",
    "To understand how the actions in a session affect a user's decision to make a purchase"
   ]
  },
  {
   "cell_type": "markdown",
   "metadata": {
    "colab": {
     "base_uri": "https://localhost:8080/",
     "height": 73,
     "resources": {
      "http://localhost:8080/nbextensions/google.colab/files.js": {
       "data": "Ly8gQ29weXJpZ2h0IDIwMTcgR29vZ2xlIExMQwovLwovLyBMaWNlbnNlZCB1bmRlciB0aGUgQXBhY2hlIExpY2Vuc2UsIFZlcnNpb24gMi4wICh0aGUgIkxpY2Vuc2UiKTsKLy8geW91IG1heSBub3QgdXNlIHRoaXMgZmlsZSBleGNlcHQgaW4gY29tcGxpYW5jZSB3aXRoIHRoZSBMaWNlbnNlLgovLyBZb3UgbWF5IG9idGFpbiBhIGNvcHkgb2YgdGhlIExpY2Vuc2UgYXQKLy8KLy8gICAgICBodHRwOi8vd3d3LmFwYWNoZS5vcmcvbGljZW5zZXMvTElDRU5TRS0yLjAKLy8KLy8gVW5sZXNzIHJlcXVpcmVkIGJ5IGFwcGxpY2FibGUgbGF3IG9yIGFncmVlZCB0byBpbiB3cml0aW5nLCBzb2Z0d2FyZQovLyBkaXN0cmlidXRlZCB1bmRlciB0aGUgTGljZW5zZSBpcyBkaXN0cmlidXRlZCBvbiBhbiAiQVMgSVMiIEJBU0lTLAovLyBXSVRIT1VUIFdBUlJBTlRJRVMgT1IgQ09ORElUSU9OUyBPRiBBTlkgS0lORCwgZWl0aGVyIGV4cHJlc3Mgb3IgaW1wbGllZC4KLy8gU2VlIHRoZSBMaWNlbnNlIGZvciB0aGUgc3BlY2lmaWMgbGFuZ3VhZ2UgZ292ZXJuaW5nIHBlcm1pc3Npb25zIGFuZAovLyBsaW1pdGF0aW9ucyB1bmRlciB0aGUgTGljZW5zZS4KCi8qKgogKiBAZmlsZW92ZXJ2aWV3IEhlbHBlcnMgZm9yIGdvb2dsZS5jb2xhYiBQeXRob24gbW9kdWxlLgogKi8KKGZ1bmN0aW9uKHNjb3BlKSB7CmZ1bmN0aW9uIHNwYW4odGV4dCwgc3R5bGVBdHRyaWJ1dGVzID0ge30pIHsKICBjb25zdCBlbGVtZW50ID0gZG9jdW1lbnQuY3JlYXRlRWxlbWVudCgnc3BhbicpOwogIGVsZW1lbnQudGV4dENvbnRlbnQgPSB0ZXh0OwogIGZvciAoY29uc3Qga2V5IG9mIE9iamVjdC5rZXlzKHN0eWxlQXR0cmlidXRlcykpIHsKICAgIGVsZW1lbnQuc3R5bGVba2V5XSA9IHN0eWxlQXR0cmlidXRlc1trZXldOwogIH0KICByZXR1cm4gZWxlbWVudDsKfQoKLy8gTWF4IG51bWJlciBvZiBieXRlcyB3aGljaCB3aWxsIGJlIHVwbG9hZGVkIGF0IGEgdGltZS4KY29uc3QgTUFYX1BBWUxPQURfU0laRSA9IDEwMCAqIDEwMjQ7CgpmdW5jdGlvbiBfdXBsb2FkRmlsZXMoaW5wdXRJZCwgb3V0cHV0SWQpIHsKICBjb25zdCBzdGVwcyA9IHVwbG9hZEZpbGVzU3RlcChpbnB1dElkLCBvdXRwdXRJZCk7CiAgY29uc3Qgb3V0cHV0RWxlbWVudCA9IGRvY3VtZW50LmdldEVsZW1lbnRCeUlkKG91dHB1dElkKTsKICAvLyBDYWNoZSBzdGVwcyBvbiB0aGUgb3V0cHV0RWxlbWVudCB0byBtYWtlIGl0IGF2YWlsYWJsZSBmb3IgdGhlIG5leHQgY2FsbAogIC8vIHRvIHVwbG9hZEZpbGVzQ29udGludWUgZnJvbSBQeXRob24uCiAgb3V0cHV0RWxlbWVudC5zdGVwcyA9IHN0ZXBzOwoKICByZXR1cm4gX3VwbG9hZEZpbGVzQ29udGludWUob3V0cHV0SWQpOwp9CgovLyBUaGlzIGlzIHJvdWdobHkgYW4gYXN5bmMgZ2VuZXJhdG9yIChub3Qgc3VwcG9ydGVkIGluIHRoZSBicm93c2VyIHlldCksCi8vIHdoZXJlIHRoZXJlIGFyZSBtdWx0aXBsZSBhc3luY2hyb25vdXMgc3RlcHMgYW5kIHRoZSBQeXRob24gc2lkZSBpcyBnb2luZwovLyB0byBwb2xsIGZvciBjb21wbGV0aW9uIG9mIGVhY2ggc3RlcC4KLy8gVGhpcyB1c2VzIGEgUHJvbWlzZSB0byBibG9jayB0aGUgcHl0aG9uIHNpZGUgb24gY29tcGxldGlvbiBvZiBlYWNoIHN0ZXAsCi8vIHRoZW4gcGFzc2VzIHRoZSByZXN1bHQgb2YgdGhlIHByZXZpb3VzIHN0ZXAgYXMgdGhlIGlucHV0IHRvIHRoZSBuZXh0IHN0ZXAuCmZ1bmN0aW9uIF91cGxvYWRGaWxlc0NvbnRpbnVlKG91dHB1dElkKSB7CiAgY29uc3Qgb3V0cHV0RWxlbWVudCA9IGRvY3VtZW50LmdldEVsZW1lbnRCeUlkKG91dHB1dElkKTsKICBjb25zdCBzdGVwcyA9IG91dHB1dEVsZW1lbnQuc3RlcHM7CgogIGNvbnN0IG5leHQgPSBzdGVwcy5uZXh0KG91dHB1dEVsZW1lbnQubGFzdFByb21pc2VWYWx1ZSk7CiAgcmV0dXJuIFByb21pc2UucmVzb2x2ZShuZXh0LnZhbHVlLnByb21pc2UpLnRoZW4oKHZhbHVlKSA9PiB7CiAgICAvLyBDYWNoZSB0aGUgbGFzdCBwcm9taXNlIHZhbHVlIHRvIG1ha2UgaXQgYXZhaWxhYmxlIHRvIHRoZSBuZXh0CiAgICAvLyBzdGVwIG9mIHRoZSBnZW5lcmF0b3IuCiAgICBvdXRwdXRFbGVtZW50Lmxhc3RQcm9taXNlVmFsdWUgPSB2YWx1ZTsKICAgIHJldHVybiBuZXh0LnZhbHVlLnJlc3BvbnNlOwogIH0pOwp9CgovKioKICogR2VuZXJhdG9yIGZ1bmN0aW9uIHdoaWNoIGlzIGNhbGxlZCBiZXR3ZWVuIGVhY2ggYXN5bmMgc3RlcCBvZiB0aGUgdXBsb2FkCiAqIHByb2Nlc3MuCiAqIEBwYXJhbSB7c3RyaW5nfSBpbnB1dElkIEVsZW1lbnQgSUQgb2YgdGhlIGlucHV0IGZpbGUgcGlja2VyIGVsZW1lbnQuCiAqIEBwYXJhbSB7c3RyaW5nfSBvdXRwdXRJZCBFbGVtZW50IElEIG9mIHRoZSBvdXRwdXQgZGlzcGxheS4KICogQHJldHVybiB7IUl0ZXJhYmxlPCFPYmplY3Q+fSBJdGVyYWJsZSBvZiBuZXh0IHN0ZXBzLgogKi8KZnVuY3Rpb24qIHVwbG9hZEZpbGVzU3RlcChpbnB1dElkLCBvdXRwdXRJZCkgewogIGNvbnN0IGlucHV0RWxlbWVudCA9IGRvY3VtZW50LmdldEVsZW1lbnRCeUlkKGlucHV0SWQpOwogIGlucHV0RWxlbWVudC5kaXNhYmxlZCA9IGZhbHNlOwoKICBjb25zdCBvdXRwdXRFbGVtZW50ID0gZG9jdW1lbnQuZ2V0RWxlbWVudEJ5SWQob3V0cHV0SWQpOwogIG91dHB1dEVsZW1lbnQuaW5uZXJIVE1MID0gJyc7CgogIGNvbnN0IHBpY2tlZFByb21pc2UgPSBuZXcgUHJvbWlzZSgocmVzb2x2ZSkgPT4gewogICAgaW5wdXRFbGVtZW50LmFkZEV2ZW50TGlzdGVuZXIoJ2NoYW5nZScsIChlKSA9PiB7CiAgICAgIHJlc29sdmUoZS50YXJnZXQuZmlsZXMpOwogICAgfSk7CiAgfSk7CgogIGNvbnN0IGNhbmNlbCA9IGRvY3VtZW50LmNyZWF0ZUVsZW1lbnQoJ2J1dHRvbicpOwogIGlucHV0RWxlbWVudC5wYXJlbnRFbGVtZW50LmFwcGVuZENoaWxkKGNhbmNlbCk7CiAgY2FuY2VsLnRleHRDb250ZW50ID0gJ0NhbmNlbCB1cGxvYWQnOwogIGNvbnN0IGNhbmNlbFByb21pc2UgPSBuZXcgUHJvbWlzZSgocmVzb2x2ZSkgPT4gewogICAgY2FuY2VsLm9uY2xpY2sgPSAoKSA9PiB7CiAgICAgIHJlc29sdmUobnVsbCk7CiAgICB9OwogIH0pOwoKICAvLyBXYWl0IGZvciB0aGUgdXNlciB0byBwaWNrIHRoZSBmaWxlcy4KICBjb25zdCBmaWxlcyA9IHlpZWxkIHsKICAgIHByb21pc2U6IFByb21pc2UucmFjZShbcGlja2VkUHJvbWlzZSwgY2FuY2VsUHJvbWlzZV0pLAogICAgcmVzcG9uc2U6IHsKICAgICAgYWN0aW9uOiAnc3RhcnRpbmcnLAogICAgfQogIH07CgogIGNhbmNlbC5yZW1vdmUoKTsKCiAgLy8gRGlzYWJsZSB0aGUgaW5wdXQgZWxlbWVudCBzaW5jZSBmdXJ0aGVyIHBpY2tzIGFyZSBub3QgYWxsb3dlZC4KICBpbnB1dEVsZW1lbnQuZGlzYWJsZWQgPSB0cnVlOwoKICBpZiAoIWZpbGVzKSB7CiAgICByZXR1cm4gewogICAgICByZXNwb25zZTogewogICAgICAgIGFjdGlvbjogJ2NvbXBsZXRlJywKICAgICAgfQogICAgfTsKICB9CgogIGZvciAoY29uc3QgZmlsZSBvZiBmaWxlcykgewogICAgY29uc3QgbGkgPSBkb2N1bWVudC5jcmVhdGVFbGVtZW50KCdsaScpOwogICAgbGkuYXBwZW5kKHNwYW4oZmlsZS5uYW1lLCB7Zm9udFdlaWdodDogJ2JvbGQnfSkpOwogICAgbGkuYXBwZW5kKHNwYW4oCiAgICAgICAgYCgke2ZpbGUudHlwZSB8fCAnbi9hJ30pIC0gJHtmaWxlLnNpemV9IGJ5dGVzLCBgICsKICAgICAgICBgbGFzdCBtb2RpZmllZDogJHsKICAgICAgICAgICAgZmlsZS5sYXN0TW9kaWZpZWREYXRlID8gZmlsZS5sYXN0TW9kaWZpZWREYXRlLnRvTG9jYWxlRGF0ZVN0cmluZygpIDoKICAgICAgICAgICAgICAgICAgICAgICAgICAgICAgICAgICAgJ24vYSd9IC0gYCkpOwogICAgY29uc3QgcGVyY2VudCA9IHNwYW4oJzAlIGRvbmUnKTsKICAgIGxpLmFwcGVuZENoaWxkKHBlcmNlbnQpOwoKICAgIG91dHB1dEVsZW1lbnQuYXBwZW5kQ2hpbGQobGkpOwoKICAgIGNvbnN0IGZpbGVEYXRhUHJvbWlzZSA9IG5ldyBQcm9taXNlKChyZXNvbHZlKSA9PiB7CiAgICAgIGNvbnN0IHJlYWRlciA9IG5ldyBGaWxlUmVhZGVyKCk7CiAgICAgIHJlYWRlci5vbmxvYWQgPSAoZSkgPT4gewogICAgICAgIHJlc29sdmUoZS50YXJnZXQucmVzdWx0KTsKICAgICAgfTsKICAgICAgcmVhZGVyLnJlYWRBc0FycmF5QnVmZmVyKGZpbGUpOwogICAgfSk7CiAgICAvLyBXYWl0IGZvciB0aGUgZGF0YSB0byBiZSByZWFkeS4KICAgIGxldCBmaWxlRGF0YSA9IHlpZWxkIHsKICAgICAgcHJvbWlzZTogZmlsZURhdGFQcm9taXNlLAogICAgICByZXNwb25zZTogewogICAgICAgIGFjdGlvbjogJ2NvbnRpbnVlJywKICAgICAgfQogICAgfTsKCiAgICAvLyBVc2UgYSBjaHVua2VkIHNlbmRpbmcgdG8gYXZvaWQgbWVzc2FnZSBzaXplIGxpbWl0cy4gU2VlIGIvNjIxMTU2NjAuCiAgICBsZXQgcG9zaXRpb24gPSAwOwogICAgZG8gewogICAgICBjb25zdCBsZW5ndGggPSBNYXRoLm1pbihmaWxlRGF0YS5ieXRlTGVuZ3RoIC0gcG9zaXRpb24sIE1BWF9QQVlMT0FEX1NJWkUpOwogICAgICBjb25zdCBjaHVuayA9IG5ldyBVaW50OEFycmF5KGZpbGVEYXRhLCBwb3NpdGlvbiwgbGVuZ3RoKTsKICAgICAgcG9zaXRpb24gKz0gbGVuZ3RoOwoKICAgICAgY29uc3QgYmFzZTY0ID0gYnRvYShTdHJpbmcuZnJvbUNoYXJDb2RlLmFwcGx5KG51bGwsIGNodW5rKSk7CiAgICAgIHlpZWxkIHsKICAgICAgICByZXNwb25zZTogewogICAgICAgICAgYWN0aW9uOiAnYXBwZW5kJywKICAgICAgICAgIGZpbGU6IGZpbGUubmFtZSwKICAgICAgICAgIGRhdGE6IGJhc2U2NCwKICAgICAgICB9LAogICAgICB9OwoKICAgICAgbGV0IHBlcmNlbnREb25lID0gZmlsZURhdGEuYnl0ZUxlbmd0aCA9PT0gMCA/CiAgICAgICAgICAxMDAgOgogICAgICAgICAgTWF0aC5yb3VuZCgocG9zaXRpb24gLyBmaWxlRGF0YS5ieXRlTGVuZ3RoKSAqIDEwMCk7CiAgICAgIHBlcmNlbnQudGV4dENvbnRlbnQgPSBgJHtwZXJjZW50RG9uZX0lIGRvbmVgOwoKICAgIH0gd2hpbGUgKHBvc2l0aW9uIDwgZmlsZURhdGEuYnl0ZUxlbmd0aCk7CiAgfQoKICAvLyBBbGwgZG9uZS4KICB5aWVsZCB7CiAgICByZXNwb25zZTogewogICAgICBhY3Rpb246ICdjb21wbGV0ZScsCiAgICB9CiAgfTsKfQoKc2NvcGUuZ29vZ2xlID0gc2NvcGUuZ29vZ2xlIHx8IHt9OwpzY29wZS5nb29nbGUuY29sYWIgPSBzY29wZS5nb29nbGUuY29sYWIgfHwge307CnNjb3BlLmdvb2dsZS5jb2xhYi5fZmlsZXMgPSB7CiAgX3VwbG9hZEZpbGVzLAogIF91cGxvYWRGaWxlc0NvbnRpbnVlLAp9Owp9KShzZWxmKTsK",
       "headers": [
        [
         "content-type",
         "application/javascript"
        ]
       ],
       "ok": true,
       "status": 200,
       "status_text": ""
      }
     }
    },
    "id": "C22TaqQCYpkL",
    "outputId": "9b6cdd4e-6e28-4287-b466-e44eb61dbe84"
   },
   "source": [
    "#https://s3.us-west-1.wasabisys.com/dphi/datasets/179/training_data.csv?AWSAccessKeyId=ABSZWDH67WW3G8YX40WD&Signature=WfvqqwJ74ua9qD4K4IDignwn6lM%3D&Expires=1645556967\n",
    "\n",
    "from google.colab import files\n",
    "uploaded = files.upload()"
   ]
  },
  {
   "cell_type": "markdown",
   "metadata": {
    "id": "iuOt6Vrp83iw"
   },
   "source": [
    "#Step 2: Perform Data Cleaning/Preparation & Analysis\n",
    "\n",
    "1. Create data frame(s) from CSV files\n",
    "2. Perform index operations on data frame(s)\n",
    "3. Apply Group, merge and aggregate data frame(s)\n",
    "4. Check for missing and invalid values in data\n",
    "5. Propose a way to treat the missing and invalid values and implement the same on the dataframe\n",
    "5. Compute the mean, sum, range and other interesting statistics for numeric columns\n"
   ]
  },
  {
   "cell_type": "code",
   "execution_count": 3,
   "metadata": {
    "colab": {
     "base_uri": "https://localhost:8080/",
     "height": 270
    },
    "id": "DDqpPEFM9lXT",
    "outputId": "b4bcb558-8a98-4868-ffce-363e3b08f9e9"
   },
   "outputs": [
    {
     "data": {
      "text/html": [
       "<div>\n",
       "<style scoped>\n",
       "    .dataframe tbody tr th:only-of-type {\n",
       "        vertical-align: middle;\n",
       "    }\n",
       "\n",
       "    .dataframe tbody tr th {\n",
       "        vertical-align: top;\n",
       "    }\n",
       "\n",
       "    .dataframe thead th {\n",
       "        text-align: right;\n",
       "    }\n",
       "</style>\n",
       "<table border=\"1\" class=\"dataframe\">\n",
       "  <thead>\n",
       "    <tr style=\"text-align: right;\">\n",
       "      <th></th>\n",
       "      <th>Administrative</th>\n",
       "      <th>Administrative_Duration</th>\n",
       "      <th>Informational</th>\n",
       "      <th>Informational_Duration</th>\n",
       "      <th>ProductRelated</th>\n",
       "      <th>ProductRelated_Duration</th>\n",
       "      <th>BounceRates</th>\n",
       "      <th>ExitRates</th>\n",
       "      <th>PageValues</th>\n",
       "      <th>SpecialDay</th>\n",
       "      <th>Month</th>\n",
       "      <th>OperatingSystems</th>\n",
       "      <th>Browser</th>\n",
       "      <th>Region</th>\n",
       "      <th>TrafficType</th>\n",
       "      <th>VisitorType</th>\n",
       "      <th>Weekend</th>\n",
       "      <th>Revenue</th>\n",
       "    </tr>\n",
       "  </thead>\n",
       "  <tbody>\n",
       "    <tr>\n",
       "      <th>0</th>\n",
       "      <td>0</td>\n",
       "      <td>0.00</td>\n",
       "      <td>0</td>\n",
       "      <td>0.0</td>\n",
       "      <td>12</td>\n",
       "      <td>354.000000</td>\n",
       "      <td>0.000000</td>\n",
       "      <td>0.018182</td>\n",
       "      <td>0.0</td>\n",
       "      <td>0.0</td>\n",
       "      <td>May</td>\n",
       "      <td>2</td>\n",
       "      <td>7</td>\n",
       "      <td>1</td>\n",
       "      <td>2</td>\n",
       "      <td>New_Visitor</td>\n",
       "      <td>True</td>\n",
       "      <td>0</td>\n",
       "    </tr>\n",
       "    <tr>\n",
       "      <th>1</th>\n",
       "      <td>0</td>\n",
       "      <td>0.00</td>\n",
       "      <td>0</td>\n",
       "      <td>0.0</td>\n",
       "      <td>8</td>\n",
       "      <td>764.666667</td>\n",
       "      <td>0.025000</td>\n",
       "      <td>0.043750</td>\n",
       "      <td>0.0</td>\n",
       "      <td>0.0</td>\n",
       "      <td>Nov</td>\n",
       "      <td>3</td>\n",
       "      <td>2</td>\n",
       "      <td>4</td>\n",
       "      <td>10</td>\n",
       "      <td>Returning_Visitor</td>\n",
       "      <td>False</td>\n",
       "      <td>0</td>\n",
       "    </tr>\n",
       "    <tr>\n",
       "      <th>2</th>\n",
       "      <td>3</td>\n",
       "      <td>157.40</td>\n",
       "      <td>0</td>\n",
       "      <td>0.0</td>\n",
       "      <td>9</td>\n",
       "      <td>128.500000</td>\n",
       "      <td>0.036364</td>\n",
       "      <td>0.081818</td>\n",
       "      <td>0.0</td>\n",
       "      <td>0.0</td>\n",
       "      <td>Jul</td>\n",
       "      <td>3</td>\n",
       "      <td>2</td>\n",
       "      <td>1</td>\n",
       "      <td>3</td>\n",
       "      <td>Returning_Visitor</td>\n",
       "      <td>True</td>\n",
       "      <td>0</td>\n",
       "    </tr>\n",
       "    <tr>\n",
       "      <th>3</th>\n",
       "      <td>3</td>\n",
       "      <td>120.00</td>\n",
       "      <td>0</td>\n",
       "      <td>0.0</td>\n",
       "      <td>5</td>\n",
       "      <td>198.000000</td>\n",
       "      <td>0.000000</td>\n",
       "      <td>0.014286</td>\n",
       "      <td>0.0</td>\n",
       "      <td>0.0</td>\n",
       "      <td>May</td>\n",
       "      <td>3</td>\n",
       "      <td>3</td>\n",
       "      <td>4</td>\n",
       "      <td>2</td>\n",
       "      <td>New_Visitor</td>\n",
       "      <td>True</td>\n",
       "      <td>0</td>\n",
       "    </tr>\n",
       "    <tr>\n",
       "      <th>4</th>\n",
       "      <td>4</td>\n",
       "      <td>37.25</td>\n",
       "      <td>1</td>\n",
       "      <td>5.0</td>\n",
       "      <td>50</td>\n",
       "      <td>1295.008333</td>\n",
       "      <td>0.000893</td>\n",
       "      <td>0.015595</td>\n",
       "      <td>0.0</td>\n",
       "      <td>0.0</td>\n",
       "      <td>Nov</td>\n",
       "      <td>3</td>\n",
       "      <td>2</td>\n",
       "      <td>4</td>\n",
       "      <td>2</td>\n",
       "      <td>Returning_Visitor</td>\n",
       "      <td>True</td>\n",
       "      <td>1</td>\n",
       "    </tr>\n",
       "  </tbody>\n",
       "</table>\n",
       "</div>"
      ],
      "text/plain": [
       "   Administrative  Administrative_Duration  Informational  \\\n",
       "0               0                     0.00              0   \n",
       "1               0                     0.00              0   \n",
       "2               3                   157.40              0   \n",
       "3               3                   120.00              0   \n",
       "4               4                    37.25              1   \n",
       "\n",
       "   Informational_Duration  ProductRelated  ProductRelated_Duration  \\\n",
       "0                     0.0              12               354.000000   \n",
       "1                     0.0               8               764.666667   \n",
       "2                     0.0               9               128.500000   \n",
       "3                     0.0               5               198.000000   \n",
       "4                     5.0              50              1295.008333   \n",
       "\n",
       "   BounceRates  ExitRates  PageValues  SpecialDay Month  OperatingSystems  \\\n",
       "0     0.000000   0.018182         0.0         0.0   May                 2   \n",
       "1     0.025000   0.043750         0.0         0.0   Nov                 3   \n",
       "2     0.036364   0.081818         0.0         0.0   Jul                 3   \n",
       "3     0.000000   0.014286         0.0         0.0   May                 3   \n",
       "4     0.000893   0.015595         0.0         0.0   Nov                 3   \n",
       "\n",
       "   Browser  Region  TrafficType        VisitorType  Weekend  Revenue  \n",
       "0        7       1            2        New_Visitor     True        0  \n",
       "1        2       4           10  Returning_Visitor    False        0  \n",
       "2        2       1            3  Returning_Visitor     True        0  \n",
       "3        3       4            2        New_Visitor     True        0  \n",
       "4        2       4            2  Returning_Visitor     True        1  "
      ]
     },
     "execution_count": 3,
     "metadata": {},
     "output_type": "execute_result"
    }
   ],
   "source": [
    "shop_int_data = pd.read_csv(\"Online Shopping data.csv\")\n",
    "shop_int_data.head()"
   ]
  },
  {
   "cell_type": "code",
   "execution_count": 4,
   "metadata": {
    "colab": {
     "base_uri": "https://localhost:8080/"
    },
    "id": "ffdGfqScjqwo",
    "outputId": "a30e8d32-cb7c-4668-c123-938fab134288"
   },
   "outputs": [
    {
     "name": "stdout",
     "output_type": "stream",
     "text": [
      "<class 'pandas.core.frame.DataFrame'>\n",
      "RangeIndex: 9864 entries, 0 to 9863\n",
      "Data columns (total 18 columns):\n",
      " #   Column                   Non-Null Count  Dtype  \n",
      "---  ------                   --------------  -----  \n",
      " 0   Administrative           9864 non-null   int64  \n",
      " 1   Administrative_Duration  9864 non-null   float64\n",
      " 2   Informational            9864 non-null   int64  \n",
      " 3   Informational_Duration   9864 non-null   float64\n",
      " 4   ProductRelated           9864 non-null   int64  \n",
      " 5   ProductRelated_Duration  9864 non-null   float64\n",
      " 6   BounceRates              9864 non-null   float64\n",
      " 7   ExitRates                9864 non-null   float64\n",
      " 8   PageValues               9864 non-null   float64\n",
      " 9   SpecialDay               9864 non-null   float64\n",
      " 10  Month                    9864 non-null   object \n",
      " 11  OperatingSystems         9864 non-null   int64  \n",
      " 12  Browser                  9864 non-null   int64  \n",
      " 13  Region                   9864 non-null   int64  \n",
      " 14  TrafficType              9864 non-null   int64  \n",
      " 15  VisitorType              9864 non-null   object \n",
      " 16  Weekend                  9864 non-null   bool   \n",
      " 17  Revenue                  9864 non-null   int64  \n",
      "dtypes: bool(1), float64(7), int64(8), object(2)\n",
      "memory usage: 1.3+ MB\n"
     ]
    }
   ],
   "source": [
    "#understanding the data.\n",
    "shop_int_data.info()"
   ]
  },
  {
   "cell_type": "markdown",
   "metadata": {
    "id": "WTqzMMmqjdcT"
   },
   "source": [
    "From the info, there are no missing values. It is easy to see that there are no duplicated columns. We check for duplicated rows."
   ]
  },
  {
   "cell_type": "code",
   "execution_count": 5,
   "metadata": {
    "colab": {
     "base_uri": "https://localhost:8080/"
    },
    "id": "u5l82c1fkUBm",
    "outputId": "5ee0a4f0-749a-4fe7-d4a8-e3d9546656da"
   },
   "outputs": [
    {
     "data": {
      "text/plain": [
       "92"
      ]
     },
     "execution_count": 5,
     "metadata": {},
     "output_type": "execute_result"
    }
   ],
   "source": [
    "#we check for duplicated rows as this can cause a bias in our analysis\n",
    "shop_int_data.duplicated().sum()"
   ]
  },
  {
   "cell_type": "code",
   "execution_count": 6,
   "metadata": {
    "id": "zqul21pakzCO"
   },
   "outputs": [],
   "source": [
    "#assign the variable bool_series to the data retaining only the first of duplicates. \n",
    "#False shows that there are not duplicates.\n",
    "bool_series = shop_int_data.duplicated(keep='first')\n",
    "\n",
    "#Take all False and store as the data. View the dataset without the duplicated rows\n",
    "shop_int_data = shop_int_data[~bool_series]"
   ]
  },
  {
   "cell_type": "code",
   "execution_count": 7,
   "metadata": {
    "colab": {
     "base_uri": "https://localhost:8080/"
    },
    "id": "u_l9KsOLpFU9",
    "outputId": "2e8fddcd-4c42-4942-8d9d-10a6e4adafbb"
   },
   "outputs": [
    {
     "name": "stdout",
     "output_type": "stream",
     "text": [
      "0 (9772, 18)\n"
     ]
    }
   ],
   "source": [
    "#check again for duplicates \n",
    "print(shop_int_data.duplicated().sum(), shop_int_data.shape)\n"
   ]
  },
  {
   "cell_type": "markdown",
   "metadata": {
    "id": "JdHHSQVzmiQT"
   },
   "source": [
    "After removing the duplicates, we have 9772 rows to work with.\n",
    "\n",
    "Another cleaning is to consider the page views and their duration.\n",
    "\n",
    "We could have said if more than 1 page was viewed then the duration cannot be zero but we did not because it is possible to switch from one page to another within a minute with a fast internet connection. So, we start from two."
   ]
  },
  {
   "cell_type": "code",
   "execution_count": 8,
   "metadata": {
    "colab": {
     "base_uri": "https://localhost:8080/"
    },
    "id": "iZ6_FftJon4z",
    "outputId": "fffb96d5-17e8-4c4d-ed5a-db04450a21b9"
   },
   "outputs": [
    {
     "data": {
      "text/plain": [
       "48"
      ]
     },
     "execution_count": 8,
     "metadata": {},
     "output_type": "execute_result"
    }
   ],
   "source": [
    "#if more than two product related pages were viewed then the duration cannot be 0\n",
    "shop_int_data[(shop_int_data['ProductRelated'] >  2) & (shop_int_data['ProductRelated_Duration'] == 0)].shape[0]"
   ]
  },
  {
   "cell_type": "markdown",
   "metadata": {
    "id": "RQrBqc-KpFnl"
   },
   "source": [
    "There ought to be no rows for the above code just as is the case with the other types of pages.\n",
    "\n",
    "Anyway, it is easy to guess that these sessions did not yield a revenue because the product related page was opened but no further action taken. No event was recorded since the duration is 0.0. All the multiple pages must have been opened on different tabs of the browser and subsequently closed.\n",
    "\n",
    "Therefore, we shall remove this data as it can create a bias."
   ]
  },
  {
   "cell_type": "code",
   "execution_count": 9,
   "metadata": {
    "colab": {
     "base_uri": "https://localhost:8080/"
    },
    "id": "BcXIQhQBGguJ",
    "outputId": "f3451d63-b89f-4e04-843c-88ad79e0a9b1"
   },
   "outputs": [
    {
     "data": {
      "text/plain": [
       "9724"
      ]
     },
     "execution_count": 9,
     "metadata": {},
     "output_type": "execute_result"
    }
   ],
   "source": [
    "# we drop the rows where more than two product related pages were viewed and the duration was 0.\n",
    "bias_data = shop_int_data[(shop_int_data['ProductRelated'] >  2) & (shop_int_data['ProductRelated_Duration'] == 0)].index\n",
    "\n",
    "shop_int_data.drop(bias_data, inplace = True)\n",
    "\n",
    "shop_int_data.shape[0]"
   ]
  },
  {
   "cell_type": "markdown",
   "metadata": {
    "id": "Nr25trfFDvZU"
   },
   "source": [
    "Another cleaning to consider is that of the page value. Looking through the dataset, we can see that there is a column for pagevalue. This means that a goal page and its corresponding value must have been set on the website. The ecommerce transaction page would also have a page value which is the price of the transaction."
   ]
  },
  {
   "cell_type": "code",
   "execution_count": 10,
   "metadata": {
    "colab": {
     "base_uri": "https://localhost:8080/"
    },
    "id": "IenOsWCMDk_W",
    "outputId": "93420461-4a1d-4afa-9032-70a60dd40696"
   },
   "outputs": [
    {
     "data": {
      "text/plain": [
       "287"
      ]
     },
     "execution_count": 10,
     "metadata": {},
     "output_type": "execute_result"
    }
   ],
   "source": [
    "#if revenue equals to 1 then page value cannot be zero\n",
    "shop_int_data[(shop_int_data['Revenue'] ==  1) & (shop_int_data['PageValues'] == 0)].shape[0]"
   ]
  },
  {
   "cell_type": "markdown",
   "metadata": {
    "id": "OnLKUn25F6E8"
   },
   "source": [
    "In the above case, we may want to assume that the pages viewed including the page for ecommerce transaction has no page value set or were not included as a goal page. But this is not the case for this dataset.\n",
    "\n",
    "It is good practice in ecommerce to set a page value for product related and transaction pages. \n",
    "\n",
    "Before deciding on whether to get rid of them, let us confirm if page values are set for a product related page."
   ]
  },
  {
   "cell_type": "code",
   "execution_count": 11,
   "metadata": {
    "colab": {
     "base_uri": "https://localhost:8080/"
    },
    "id": "EYjLQvYGGQ4q",
    "outputId": "c373173a-e5ed-4c02-f127-19cd76a8bc7d"
   },
   "outputs": [
    {
     "data": {
      "text/plain": [
       "7539"
      ]
     },
     "execution_count": 11,
     "metadata": {},
     "output_type": "execute_result"
    }
   ],
   "source": [
    "#a product related page was viewed and a pagevalue was not assigned.\n",
    "\n",
    "shop_int_data[(shop_int_data['ProductRelated'] >  0) & (shop_int_data['PageValues'] ==  0)].shape[0]"
   ]
  },
  {
   "cell_type": "markdown",
   "metadata": {
    "id": "CBOnMl1yGSkQ"
   },
   "source": [
    "Based on the above result, it appears that there are more unset pagevalues than set pagevalues. Therefore, we shall assume that no page value is set for the product related page. "
   ]
  },
  {
   "cell_type": "markdown",
   "metadata": {
    "id": "S6JVn7M0HQ3c"
   },
   "source": [
    "If we are sure that a page value is set (because other sessions have a page value), then page values cannot be zero when there is a revenue and/or when a product related page is viewed (greater than 0). These pages are very important to understand the performance of a website."
   ]
  },
  {
   "cell_type": "markdown",
   "metadata": {
    "id": "JckzfKjkG5Tw"
   },
   "source": [
    "In any circumstance, the page for the online payment is will always have a page value. Therefore, we shall clean the above data where revenue is 1 and pagevalue is 0 but keep the data where a product related page was viewed and page value is still 0."
   ]
  },
  {
   "cell_type": "code",
   "execution_count": 12,
   "metadata": {
    "colab": {
     "base_uri": "https://localhost:8080/"
    },
    "id": "pc5jjVOQICwt",
    "outputId": "4337862c-1a67-4667-b757-a9ca0bc80aea"
   },
   "outputs": [
    {
     "data": {
      "text/plain": [
       "9437"
      ]
     },
     "execution_count": 12,
     "metadata": {},
     "output_type": "execute_result"
    }
   ],
   "source": [
    "#assuming a pagevalue is set for the payment page, let us delete the rows where pagevalue is 0 and revenue is 1 because it \n",
    "#is very likely a false revenue.\n",
    "\n",
    "false_revenue1 = shop_int_data[(shop_int_data['PageValues'] ==  0) & (shop_int_data['Revenue'] == 1)].index\n",
    "\n",
    "shop_int_data.drop(false_revenue1, inplace = True)\n",
    "\n",
    "shop_int_data.shape[0]"
   ]
  },
  {
   "cell_type": "code",
   "execution_count": 13,
   "metadata": {
    "colab": {
     "base_uri": "https://localhost:8080/"
    },
    "id": "uJhdLKHzck5l",
    "outputId": "8a8c3142-824d-4915-947e-22d066e6bdea"
   },
   "outputs": [
    {
     "data": {
      "text/plain": [
       "8520"
      ]
     },
     "execution_count": 13,
     "metadata": {},
     "output_type": "execute_result"
    }
   ],
   "source": [
    "#similarly, if revenue is 0 then page value must be zero because the user did not make it to the payment page.\n",
    "false_revenue2 = shop_int_data[(shop_int_data['PageValues'] >  0) & (shop_int_data['Revenue'] == 0)].index\n",
    "\n",
    "shop_int_data.drop(false_revenue2, inplace = True)\n",
    "\n",
    "shop_int_data.shape[0]"
   ]
  },
  {
   "cell_type": "markdown",
   "metadata": {
    "id": "Mn9gLvqNJauC"
   },
   "source": [
    "This brings us to the end of cleaning the data. Now, let us check the info to identify the changes."
   ]
  },
  {
   "cell_type": "code",
   "execution_count": 14,
   "metadata": {
    "colab": {
     "base_uri": "https://localhost:8080/"
    },
    "id": "29CMOZ8eJcIx",
    "outputId": "de8f358a-cf3c-4b6f-af98-c5ceb0c2caea"
   },
   "outputs": [
    {
     "name": "stdout",
     "output_type": "stream",
     "text": [
      "<class 'pandas.core.frame.DataFrame'>\n",
      "Int64Index: 8520 entries, 0 to 9863\n",
      "Data columns (total 18 columns):\n",
      " #   Column                   Non-Null Count  Dtype  \n",
      "---  ------                   --------------  -----  \n",
      " 0   Administrative           8520 non-null   int64  \n",
      " 1   Administrative_Duration  8520 non-null   float64\n",
      " 2   Informational            8520 non-null   int64  \n",
      " 3   Informational_Duration   8520 non-null   float64\n",
      " 4   ProductRelated           8520 non-null   int64  \n",
      " 5   ProductRelated_Duration  8520 non-null   float64\n",
      " 6   BounceRates              8520 non-null   float64\n",
      " 7   ExitRates                8520 non-null   float64\n",
      " 8   PageValues               8520 non-null   float64\n",
      " 9   SpecialDay               8520 non-null   float64\n",
      " 10  Month                    8520 non-null   object \n",
      " 11  OperatingSystems         8520 non-null   int64  \n",
      " 12  Browser                  8520 non-null   int64  \n",
      " 13  Region                   8520 non-null   int64  \n",
      " 14  TrafficType              8520 non-null   int64  \n",
      " 15  VisitorType              8520 non-null   object \n",
      " 16  Weekend                  8520 non-null   bool   \n",
      " 17  Revenue                  8520 non-null   int64  \n",
      "dtypes: bool(1), float64(7), int64(8), object(2)\n",
      "memory usage: 1.2+ MB\n"
     ]
    }
   ],
   "source": [
    "shop_int_data.info()"
   ]
  },
  {
   "cell_type": "markdown",
   "metadata": {
    "id": "cr8mD-Uy9Wev"
   },
   "source": [
    "# Step 3: Exploration & Inference\n",
    "\n",
    "1. Ask at least 3 interesting questions about your dataset\n",
    "2. Answer the questions by computing the results using Pandas library\n",
    "3. Add concluding remarks\n"
   ]
  },
  {
   "cell_type": "markdown",
   "metadata": {
    "id": "H0oyHXNNssVC"
   },
   "source": [
    "## **1. How many percentage of the dataset yielded a revenue?**"
   ]
  },
  {
   "cell_type": "code",
   "execution_count": 15,
   "metadata": {
    "colab": {
     "base_uri": "https://localhost:8080/"
    },
    "id": "ITp6UJy9si1y",
    "outputId": "a15dcd87-a54e-4938-c1f1-dd1c8f6779e0"
   },
   "outputs": [
    {
     "data": {
      "text/plain": [
       "1239"
      ]
     },
     "execution_count": 15,
     "metadata": {},
     "output_type": "execute_result"
    }
   ],
   "source": [
    "#all rows for positive revenue\n",
    "shop_int_data[shop_int_data['Revenue'] == 1].shape[0]"
   ]
  },
  {
   "cell_type": "code",
   "execution_count": 16,
   "metadata": {},
   "outputs": [
    {
     "data": {
      "text/plain": [
       "8520"
      ]
     },
     "execution_count": 16,
     "metadata": {},
     "output_type": "execute_result"
    }
   ],
   "source": [
    "shop_int_data.shape[0]"
   ]
  },
  {
   "cell_type": "code",
   "execution_count": 17,
   "metadata": {
    "colab": {
     "base_uri": "https://localhost:8080/"
    },
    "id": "wbVYfv7rtJu9",
    "outputId": "4877b55c-a944-4bf8-d082-b21c8cb5b0e2"
   },
   "outputs": [
    {
     "data": {
      "text/plain": [
       "14.54225352112676"
      ]
     },
     "execution_count": 17,
     "metadata": {},
     "output_type": "execute_result"
    }
   ],
   "source": [
    "#no of rows with positive revenue times 100 divided by the total no of rows after cleaning\n",
    "\n",
    "((shop_int_data[shop_int_data['Revenue'] == 1].shape[0]) * 100)/ shop_int_data.shape[0]"
   ]
  },
  {
   "cell_type": "markdown",
   "metadata": {
    "id": "4kVOssThukAj"
   },
   "source": [
    "14.5% of the entire dataset yielded a postive revenue. Some of the positive revenue were cleaned out as false revenue.\n",
    "\n",
    "263 revenue were from New visitors and 11 from Other visitos while the rest (965) were from returning visitors. \n",
    "\n",
    "86% of the dataset yielded zero revenue. This means we have more data for no revenue than for revenue.\n",
    "\n",
    "Although there are less entries for revenue, most of the analysis will be based on revenue to see how the ecommerce company can further improve on them."
   ]
  },
  {
   "cell_type": "code",
   "execution_count": 18,
   "metadata": {
    "colab": {
     "base_uri": "https://localhost:8080/",
     "height": 281
    },
    "id": "sSWSg2HLhR1j",
    "outputId": "668e6bde-6419-48a7-86b1-c656613b29d3"
   },
   "outputs": [
    {
     "name": "stdout",
     "output_type": "stream",
     "text": [
      "\n"
     ]
    },
    {
     "data": {
      "image/png": "[encoded data removed]",
      "text/plain": [
       "<Figure size 432x288 with 1 Axes>"
      ]
     },
     "metadata": {},
     "output_type": "display_data"
    }
   ],
   "source": [
    "#representation of all website visitors\n",
    "\n",
    "visitor_numbers = shop_int_data['VisitorType'].value_counts()\n",
    "plt.title(\"Piechart of Website's Visitors\")\n",
    "\n",
    "visitor_type = ['Returning_Visitor','New_Visitor', 'Other' ]\n",
    "plt.pie(visitor_numbers, labels = visitor_type, autopct='%0.1f%%')\n",
    "\n",
    "print('')\n",
    "plt.show() "
   ]
  },
  {
   "cell_type": "markdown",
   "metadata": {
    "id": "WaV5k8T1sBTv"
   },
   "source": [
    "## **2. What region did most visitors come from?**"
   ]
  },
  {
   "cell_type": "code",
   "execution_count": 19,
   "metadata": {
    "colab": {
     "base_uri": "https://localhost:8080/"
    },
    "id": "RLGGuOhpsS6W",
    "outputId": "f50c7291-53aa-4145-e3c4-b152565802ab"
   },
   "outputs": [
    {
     "data": {
      "text/plain": [
       "1    483\n",
       "Name: Region, dtype: int64"
      ]
     },
     "execution_count": 19,
     "metadata": {},
     "output_type": "execute_result"
    }
   ],
   "source": [
    "#region of all visitors\n",
    "shop_int_data['Region'].value_counts()\n",
    "\n",
    "#483 buyers from region 1.\n",
    "shop_int_data[(shop_int_data['Revenue']==1)]['Region'].value_counts().head(1)"
   ]
  },
  {
   "cell_type": "markdown",
   "metadata": {
    "id": "zbvzw6O3viHe"
   },
   "source": [
    "Most of the website visitors are from region 1. And most of the visitors who actually bought are also from region 1. There are 9 regions in total."
   ]
  },
  {
   "cell_type": "markdown",
   "metadata": {
    "id": "G_IlJdH9v8kn"
   },
   "source": [
    "## **3. What is the average time needed for a visitor to decide to make a purchase?**"
   ]
  },
  {
   "cell_type": "code",
   "execution_count": 20,
   "metadata": {
    "colab": {
     "base_uri": "https://localhost:8080/",
     "height": 288
    },
    "id": "BlelOwqSw7MM",
    "outputId": "1b440d69-1c40-4c76-a12d-268c4b007d1e"
   },
   "outputs": [
    {
     "data": {
      "text/html": [
       "<div>\n",
       "<style scoped>\n",
       "    .dataframe tbody tr th:only-of-type {\n",
       "        vertical-align: middle;\n",
       "    }\n",
       "\n",
       "    .dataframe tbody tr th {\n",
       "        vertical-align: top;\n",
       "    }\n",
       "\n",
       "    .dataframe thead th {\n",
       "        text-align: right;\n",
       "    }\n",
       "</style>\n",
       "<table border=\"1\" class=\"dataframe\">\n",
       "  <thead>\n",
       "    <tr style=\"text-align: right;\">\n",
       "      <th></th>\n",
       "      <th>Administrative</th>\n",
       "      <th>Administrative_Duration</th>\n",
       "      <th>Informational</th>\n",
       "      <th>Informational_Duration</th>\n",
       "      <th>ProductRelated</th>\n",
       "      <th>ProductRelated_Duration</th>\n",
       "      <th>BounceRates</th>\n",
       "      <th>ExitRates</th>\n",
       "      <th>PageValues</th>\n",
       "      <th>SpecialDay</th>\n",
       "      <th>Month</th>\n",
       "      <th>OperatingSystems</th>\n",
       "      <th>Browser</th>\n",
       "      <th>Region</th>\n",
       "      <th>TrafficType</th>\n",
       "      <th>VisitorType</th>\n",
       "      <th>Weekend</th>\n",
       "      <th>Revenue</th>\n",
       "      <th>total_time</th>\n",
       "    </tr>\n",
       "  </thead>\n",
       "  <tbody>\n",
       "    <tr>\n",
       "      <th>0</th>\n",
       "      <td>0</td>\n",
       "      <td>0.0</td>\n",
       "      <td>0</td>\n",
       "      <td>0.0</td>\n",
       "      <td>12</td>\n",
       "      <td>354.000000</td>\n",
       "      <td>0.000000</td>\n",
       "      <td>0.018182</td>\n",
       "      <td>0.0</td>\n",
       "      <td>0.0</td>\n",
       "      <td>May</td>\n",
       "      <td>2</td>\n",
       "      <td>7</td>\n",
       "      <td>1</td>\n",
       "      <td>2</td>\n",
       "      <td>New_Visitor</td>\n",
       "      <td>True</td>\n",
       "      <td>0</td>\n",
       "      <td>354.000000</td>\n",
       "    </tr>\n",
       "    <tr>\n",
       "      <th>1</th>\n",
       "      <td>0</td>\n",
       "      <td>0.0</td>\n",
       "      <td>0</td>\n",
       "      <td>0.0</td>\n",
       "      <td>8</td>\n",
       "      <td>764.666667</td>\n",
       "      <td>0.025000</td>\n",
       "      <td>0.043750</td>\n",
       "      <td>0.0</td>\n",
       "      <td>0.0</td>\n",
       "      <td>Nov</td>\n",
       "      <td>3</td>\n",
       "      <td>2</td>\n",
       "      <td>4</td>\n",
       "      <td>10</td>\n",
       "      <td>Returning_Visitor</td>\n",
       "      <td>False</td>\n",
       "      <td>0</td>\n",
       "      <td>764.666667</td>\n",
       "    </tr>\n",
       "    <tr>\n",
       "      <th>2</th>\n",
       "      <td>3</td>\n",
       "      <td>157.4</td>\n",
       "      <td>0</td>\n",
       "      <td>0.0</td>\n",
       "      <td>9</td>\n",
       "      <td>128.500000</td>\n",
       "      <td>0.036364</td>\n",
       "      <td>0.081818</td>\n",
       "      <td>0.0</td>\n",
       "      <td>0.0</td>\n",
       "      <td>Jul</td>\n",
       "      <td>3</td>\n",
       "      <td>2</td>\n",
       "      <td>1</td>\n",
       "      <td>3</td>\n",
       "      <td>Returning_Visitor</td>\n",
       "      <td>True</td>\n",
       "      <td>0</td>\n",
       "      <td>285.900000</td>\n",
       "    </tr>\n",
       "    <tr>\n",
       "      <th>3</th>\n",
       "      <td>3</td>\n",
       "      <td>120.0</td>\n",
       "      <td>0</td>\n",
       "      <td>0.0</td>\n",
       "      <td>5</td>\n",
       "      <td>198.000000</td>\n",
       "      <td>0.000000</td>\n",
       "      <td>0.014286</td>\n",
       "      <td>0.0</td>\n",
       "      <td>0.0</td>\n",
       "      <td>May</td>\n",
       "      <td>3</td>\n",
       "      <td>3</td>\n",
       "      <td>4</td>\n",
       "      <td>2</td>\n",
       "      <td>New_Visitor</td>\n",
       "      <td>True</td>\n",
       "      <td>0</td>\n",
       "      <td>318.000000</td>\n",
       "    </tr>\n",
       "    <tr>\n",
       "      <th>5</th>\n",
       "      <td>0</td>\n",
       "      <td>0.0</td>\n",
       "      <td>0</td>\n",
       "      <td>0.0</td>\n",
       "      <td>4</td>\n",
       "      <td>66.000000</td>\n",
       "      <td>0.000000</td>\n",
       "      <td>0.050000</td>\n",
       "      <td>0.0</td>\n",
       "      <td>0.0</td>\n",
       "      <td>Dec</td>\n",
       "      <td>1</td>\n",
       "      <td>1</td>\n",
       "      <td>8</td>\n",
       "      <td>2</td>\n",
       "      <td>Returning_Visitor</td>\n",
       "      <td>False</td>\n",
       "      <td>0</td>\n",
       "      <td>66.000000</td>\n",
       "    </tr>\n",
       "  </tbody>\n",
       "</table>\n",
       "</div>"
      ],
      "text/plain": [
       "   Administrative  Administrative_Duration  Informational  \\\n",
       "0               0                      0.0              0   \n",
       "1               0                      0.0              0   \n",
       "2               3                    157.4              0   \n",
       "3               3                    120.0              0   \n",
       "5               0                      0.0              0   \n",
       "\n",
       "   Informational_Duration  ProductRelated  ProductRelated_Duration  \\\n",
       "0                     0.0              12               354.000000   \n",
       "1                     0.0               8               764.666667   \n",
       "2                     0.0               9               128.500000   \n",
       "3                     0.0               5               198.000000   \n",
       "5                     0.0               4                66.000000   \n",
       "\n",
       "   BounceRates  ExitRates  PageValues  SpecialDay Month  OperatingSystems  \\\n",
       "0     0.000000   0.018182         0.0         0.0   May                 2   \n",
       "1     0.025000   0.043750         0.0         0.0   Nov                 3   \n",
       "2     0.036364   0.081818         0.0         0.0   Jul                 3   \n",
       "3     0.000000   0.014286         0.0         0.0   May                 3   \n",
       "5     0.000000   0.050000         0.0         0.0   Dec                 1   \n",
       "\n",
       "   Browser  Region  TrafficType        VisitorType  Weekend  Revenue  \\\n",
       "0        7       1            2        New_Visitor     True        0   \n",
       "1        2       4           10  Returning_Visitor    False        0   \n",
       "2        2       1            3  Returning_Visitor     True        0   \n",
       "3        3       4            2        New_Visitor     True        0   \n",
       "5        1       8            2  Returning_Visitor    False        0   \n",
       "\n",
       "   total_time  \n",
       "0  354.000000  \n",
       "1  764.666667  \n",
       "2  285.900000  \n",
       "3  318.000000  \n",
       "5   66.000000  "
      ]
     },
     "execution_count": 20,
     "metadata": {},
     "output_type": "execute_result"
    }
   ],
   "source": [
    "#addition of all durations\n",
    "shop_int_data['total_time'] = shop_int_data.Administrative_Duration + shop_int_data.Informational_Duration + shop_int_data.ProductRelated_Duration\n",
    "\n",
    "shop_int_data.head()"
   ]
  },
  {
   "cell_type": "code",
   "execution_count": 21,
   "metadata": {
    "colab": {
     "base_uri": "https://localhost:8080/"
    },
    "id": "5FkDCSgT9mCc",
    "outputId": "0d806547-3156-42a5-812a-e9178e8ffc6f"
   },
   "outputs": [
    {
     "data": {
      "text/plain": [
       "(23340.8109167, 2114.378274063086, 15.6)"
      ]
     },
     "execution_count": 21,
     "metadata": {},
     "output_type": "execute_result"
    }
   ],
   "source": [
    "#find max, mean, min of total_time where revenue is 1\n",
    "revenue_time = shop_int_data[(shop_int_data['Revenue']==1)]['total_time']\n",
    "\n",
    "max(revenue_time), revenue_time.mean(), min(revenue_time)"
   ]
  },
  {
   "cell_type": "markdown",
   "metadata": {
    "id": "9hvi06bFx-j5"
   },
   "source": [
    "This shows that the minimum duration for a user to decide to make a purchase is 15.6s, the max duration is 23340s and the average duration is 2114s. \n",
    "\n",
    "Spending a longer duration on the website also does not indicate that the user will be convinced to buy. The highest duration spent on this website is 34576.95 and it yielded 0 revenue. "
   ]
  },
  {
   "cell_type": "markdown",
   "metadata": {
    "id": "5TSogUNXykK7"
   },
   "source": [
    "## **4. What browser and operating system is mostly used? How does this affect navigating the website and making a purchase?**"
   ]
  },
  {
   "cell_type": "code",
   "execution_count": 22,
   "metadata": {
    "colab": {
     "base_uri": "https://localhost:8080/"
    },
    "id": "B4kQ-Lzte_Dg",
    "outputId": "2faecf0d-440b-4710-a6fd-3840008fbd75"
   },
   "outputs": [
    {
     "data": {
      "text/plain": [
       "2    4544\n",
       "Name: OperatingSystems, dtype: int64"
      ]
     },
     "execution_count": 22,
     "metadata": {},
     "output_type": "execute_result"
    }
   ],
   "source": [
    "#OS mostly used\n",
    "shop_int_data['OperatingSystems'].value_counts().head(1)"
   ]
  },
  {
   "cell_type": "code",
   "execution_count": 23,
   "metadata": {
    "colab": {
     "base_uri": "https://localhost:8080/"
    },
    "id": "5NigeNs9e-qp",
    "outputId": "023dc3da-e820-4b73-c459-bef45fa23ce6"
   },
   "outputs": [
    {
     "data": {
      "text/plain": [
       "2    5476\n",
       "Name: Browser, dtype: int64"
      ]
     },
     "execution_count": 23,
     "metadata": {},
     "output_type": "execute_result"
    }
   ],
   "source": [
    "#Browser mostly used\n",
    "shop_int_data['Browser'].value_counts().head(1)"
   ]
  },
  {
   "cell_type": "code",
   "execution_count": 24,
   "metadata": {
    "colab": {
     "base_uri": "https://localhost:8080/"
    },
    "id": "pEMg3blOfSs7",
    "outputId": "5d1c0846-d2cb-47c5-de2a-f057135d40d6"
   },
   "outputs": [
    {
     "data": {
      "text/plain": [
       "587"
      ]
     },
     "execution_count": 24,
     "metadata": {},
     "output_type": "execute_result"
    }
   ],
   "source": [
    "#displaying the data of the most used browser and OS with positive revenue\n",
    "shop_int_data[(shop_int_data['OperatingSystems']==2) & (shop_int_data['Browser']==2) & (shop_int_data['Revenue']==1)].shape[0]"
   ]
  },
  {
   "cell_type": "code",
   "execution_count": 25,
   "metadata": {
    "colab": {
     "base_uri": "https://localhost:8080/"
    },
    "id": "cs0-R8GpfexH",
    "outputId": "bd3076ce-3de5-4705-dea9-23878456e65b"
   },
   "outputs": [
    {
     "data": {
      "text/plain": [
       "2878"
      ]
     },
     "execution_count": 25,
     "metadata": {},
     "output_type": "execute_result"
    }
   ],
   "source": [
    "#when revenue is 0\n",
    "shop_int_data[(shop_int_data['OperatingSystems']==2) & (shop_int_data['Browser']==2) & (shop_int_data['Revenue']==0)].shape[0]"
   ]
  },
  {
   "cell_type": "markdown",
   "metadata": {
    "id": "cNRmpD8OftBB"
   },
   "source": [
    "There are more zero revenue when browser 2 and OS 2 are used so this does not really affect the decision to make a purchase. However, it might make navigating the website much more easier."
   ]
  },
  {
   "cell_type": "markdown",
   "metadata": {
    "id": "tnn8tYMd3ec9"
   },
   "source": [
    "## **4. Using more desriptive traffic sources, analyse the dataset.**"
   ]
  },
  {
   "cell_type": "markdown",
   "metadata": {
    "id": "mUldS8gBgEU0"
   },
   "source": [
    "The entries of traffic type for the dataset does not give enough information. Traffic type defines the method or medium by which visitors reach the website.\n",
    "\n",
    "For this analysis and as an assumption, I have decided to group the numbers into 4 groups and assign each group a traffic medium based on Google Analytics:\n",
    "1. 1-5 Direct traffic\n",
    "2. 6-10 Organic referral\n",
    "3. 11-15 Social referral\n",
    "4. 16-20 Paid referral\n",
    "\n",
    "Direct means that they directly used the site's URL link to get to the website. It could be that they have it stored in their browser bookmarks.\n",
    "\n",
    "Organic means they got to the website through a search engine like google, bing.\n",
    "\n",
    "Social means they used a link found on social media like twitter, facebook, etc.\n",
    "\n",
    "Paid means they clicked a sponosred ad used to promote the website."
   ]
  },
  {
   "cell_type": "code",
   "execution_count": 26,
   "metadata": {
    "colab": {
     "base_uri": "https://localhost:8080/",
     "height": 270
    },
    "id": "7SpWFWufy9ZT",
    "outputId": "a00e8fea-11bc-485f-ce91-b35c608f37ed"
   },
   "outputs": [
    {
     "data": {
      "text/html": [
       "<div>\n",
       "<style scoped>\n",
       "    .dataframe tbody tr th:only-of-type {\n",
       "        vertical-align: middle;\n",
       "    }\n",
       "\n",
       "    .dataframe tbody tr th {\n",
       "        vertical-align: top;\n",
       "    }\n",
       "\n",
       "    .dataframe thead th {\n",
       "        text-align: right;\n",
       "    }\n",
       "</style>\n",
       "<table border=\"1\" class=\"dataframe\">\n",
       "  <thead>\n",
       "    <tr style=\"text-align: right;\">\n",
       "      <th></th>\n",
       "      <th>Administrative</th>\n",
       "      <th>Administrative_Duration</th>\n",
       "      <th>Informational</th>\n",
       "      <th>Informational_Duration</th>\n",
       "      <th>ProductRelated</th>\n",
       "      <th>ProductRelated_Duration</th>\n",
       "      <th>BounceRates</th>\n",
       "      <th>ExitRates</th>\n",
       "      <th>PageValues</th>\n",
       "      <th>SpecialDay</th>\n",
       "      <th>Month</th>\n",
       "      <th>OperatingSystems</th>\n",
       "      <th>Browser</th>\n",
       "      <th>Region</th>\n",
       "      <th>TrafficType</th>\n",
       "      <th>VisitorType</th>\n",
       "      <th>Weekend</th>\n",
       "      <th>Revenue</th>\n",
       "      <th>total_time</th>\n",
       "    </tr>\n",
       "  </thead>\n",
       "  <tbody>\n",
       "    <tr>\n",
       "      <th>0</th>\n",
       "      <td>0</td>\n",
       "      <td>0.0</td>\n",
       "      <td>0</td>\n",
       "      <td>0.0</td>\n",
       "      <td>12</td>\n",
       "      <td>354.000000</td>\n",
       "      <td>0.000000</td>\n",
       "      <td>0.018182</td>\n",
       "      <td>0.0</td>\n",
       "      <td>0.0</td>\n",
       "      <td>May</td>\n",
       "      <td>2</td>\n",
       "      <td>7</td>\n",
       "      <td>1</td>\n",
       "      <td>Direct</td>\n",
       "      <td>New_Visitor</td>\n",
       "      <td>True</td>\n",
       "      <td>0</td>\n",
       "      <td>354.000000</td>\n",
       "    </tr>\n",
       "    <tr>\n",
       "      <th>1</th>\n",
       "      <td>0</td>\n",
       "      <td>0.0</td>\n",
       "      <td>0</td>\n",
       "      <td>0.0</td>\n",
       "      <td>8</td>\n",
       "      <td>764.666667</td>\n",
       "      <td>0.025000</td>\n",
       "      <td>0.043750</td>\n",
       "      <td>0.0</td>\n",
       "      <td>0.0</td>\n",
       "      <td>Nov</td>\n",
       "      <td>3</td>\n",
       "      <td>2</td>\n",
       "      <td>4</td>\n",
       "      <td>Organic</td>\n",
       "      <td>Returning_Visitor</td>\n",
       "      <td>False</td>\n",
       "      <td>0</td>\n",
       "      <td>764.666667</td>\n",
       "    </tr>\n",
       "    <tr>\n",
       "      <th>2</th>\n",
       "      <td>3</td>\n",
       "      <td>157.4</td>\n",
       "      <td>0</td>\n",
       "      <td>0.0</td>\n",
       "      <td>9</td>\n",
       "      <td>128.500000</td>\n",
       "      <td>0.036364</td>\n",
       "      <td>0.081818</td>\n",
       "      <td>0.0</td>\n",
       "      <td>0.0</td>\n",
       "      <td>Jul</td>\n",
       "      <td>3</td>\n",
       "      <td>2</td>\n",
       "      <td>1</td>\n",
       "      <td>Direct</td>\n",
       "      <td>Returning_Visitor</td>\n",
       "      <td>True</td>\n",
       "      <td>0</td>\n",
       "      <td>285.900000</td>\n",
       "    </tr>\n",
       "    <tr>\n",
       "      <th>3</th>\n",
       "      <td>3</td>\n",
       "      <td>120.0</td>\n",
       "      <td>0</td>\n",
       "      <td>0.0</td>\n",
       "      <td>5</td>\n",
       "      <td>198.000000</td>\n",
       "      <td>0.000000</td>\n",
       "      <td>0.014286</td>\n",
       "      <td>0.0</td>\n",
       "      <td>0.0</td>\n",
       "      <td>May</td>\n",
       "      <td>3</td>\n",
       "      <td>3</td>\n",
       "      <td>4</td>\n",
       "      <td>Direct</td>\n",
       "      <td>New_Visitor</td>\n",
       "      <td>True</td>\n",
       "      <td>0</td>\n",
       "      <td>318.000000</td>\n",
       "    </tr>\n",
       "    <tr>\n",
       "      <th>5</th>\n",
       "      <td>0</td>\n",
       "      <td>0.0</td>\n",
       "      <td>0</td>\n",
       "      <td>0.0</td>\n",
       "      <td>4</td>\n",
       "      <td>66.000000</td>\n",
       "      <td>0.000000</td>\n",
       "      <td>0.050000</td>\n",
       "      <td>0.0</td>\n",
       "      <td>0.0</td>\n",
       "      <td>Dec</td>\n",
       "      <td>1</td>\n",
       "      <td>1</td>\n",
       "      <td>8</td>\n",
       "      <td>Direct</td>\n",
       "      <td>Returning_Visitor</td>\n",
       "      <td>False</td>\n",
       "      <td>0</td>\n",
       "      <td>66.000000</td>\n",
       "    </tr>\n",
       "  </tbody>\n",
       "</table>\n",
       "</div>"
      ],
      "text/plain": [
       "   Administrative  Administrative_Duration  Informational  \\\n",
       "0               0                      0.0              0   \n",
       "1               0                      0.0              0   \n",
       "2               3                    157.4              0   \n",
       "3               3                    120.0              0   \n",
       "5               0                      0.0              0   \n",
       "\n",
       "   Informational_Duration  ProductRelated  ProductRelated_Duration  \\\n",
       "0                     0.0              12               354.000000   \n",
       "1                     0.0               8               764.666667   \n",
       "2                     0.0               9               128.500000   \n",
       "3                     0.0               5               198.000000   \n",
       "5                     0.0               4                66.000000   \n",
       "\n",
       "   BounceRates  ExitRates  PageValues  SpecialDay Month  OperatingSystems  \\\n",
       "0     0.000000   0.018182         0.0         0.0   May                 2   \n",
       "1     0.025000   0.043750         0.0         0.0   Nov                 3   \n",
       "2     0.036364   0.081818         0.0         0.0   Jul                 3   \n",
       "3     0.000000   0.014286         0.0         0.0   May                 3   \n",
       "5     0.000000   0.050000         0.0         0.0   Dec                 1   \n",
       "\n",
       "   Browser  Region TrafficType        VisitorType  Weekend  Revenue  \\\n",
       "0        7       1      Direct        New_Visitor     True        0   \n",
       "1        2       4     Organic  Returning_Visitor    False        0   \n",
       "2        2       1      Direct  Returning_Visitor     True        0   \n",
       "3        3       4      Direct        New_Visitor     True        0   \n",
       "5        1       8      Direct  Returning_Visitor    False        0   \n",
       "\n",
       "   total_time  \n",
       "0  354.000000  \n",
       "1  764.666667  \n",
       "2  285.900000  \n",
       "3  318.000000  \n",
       "5   66.000000  "
      ]
     },
     "execution_count": 26,
     "metadata": {},
     "output_type": "execute_result"
    }
   ],
   "source": [
    "#form the traffic groups and insert into the dataset\n",
    "shop_int_data['TrafficType'].replace(dict.fromkeys([1, 2, 3, 4, 5], 'Direct'), inplace = True)\n",
    "shop_int_data['TrafficType'].replace(dict.fromkeys([6, 7, 8, 9, 10], 'Organic'), inplace = True)\n",
    "shop_int_data['TrafficType'].replace(dict.fromkeys([11, 12, 13, 14, 15], 'Social'), inplace = True)\n",
    "shop_int_data['TrafficType'].replace(dict.fromkeys([16, 17, 18, 19, 20], 'Paid'), inplace = True)\n",
    "shop_int_data.head()"
   ]
  },
  {
   "cell_type": "markdown",
   "metadata": {
    "id": "3WnveJzY0FBV"
   },
   "source": [
    "The numbers in the traffic column have been replaced by more descriptive traffic sources to a website."
   ]
  },
  {
   "cell_type": "code",
   "execution_count": 27,
   "metadata": {
    "colab": {
     "base_uri": "https://localhost:8080/",
     "height": 270
    },
    "id": "LUhJ7Ap3frLj",
    "outputId": "5f120254-fb74-4c81-b9cc-443a896b1520"
   },
   "outputs": [
    {
     "data": {
      "text/html": [
       "<div>\n",
       "<style scoped>\n",
       "    .dataframe tbody tr th:only-of-type {\n",
       "        vertical-align: middle;\n",
       "    }\n",
       "\n",
       "    .dataframe tbody tr th {\n",
       "        vertical-align: top;\n",
       "    }\n",
       "\n",
       "    .dataframe thead th {\n",
       "        text-align: right;\n",
       "    }\n",
       "</style>\n",
       "<table border=\"1\" class=\"dataframe\">\n",
       "  <thead>\n",
       "    <tr style=\"text-align: right;\">\n",
       "      <th></th>\n",
       "      <th>Administrative</th>\n",
       "      <th>Administrative_Duration</th>\n",
       "      <th>Informational</th>\n",
       "      <th>Informational_Duration</th>\n",
       "      <th>ProductRelated</th>\n",
       "      <th>ProductRelated_Duration</th>\n",
       "      <th>BounceRates</th>\n",
       "      <th>ExitRates</th>\n",
       "      <th>PageValues</th>\n",
       "      <th>SpecialDay</th>\n",
       "      <th>Month</th>\n",
       "      <th>OperatingSystems</th>\n",
       "      <th>Browser</th>\n",
       "      <th>Region</th>\n",
       "      <th>VisitorType</th>\n",
       "      <th>Weekend</th>\n",
       "      <th>Revenue</th>\n",
       "      <th>total_time</th>\n",
       "    </tr>\n",
       "    <tr>\n",
       "      <th>TrafficType</th>\n",
       "      <th></th>\n",
       "      <th></th>\n",
       "      <th></th>\n",
       "      <th></th>\n",
       "      <th></th>\n",
       "      <th></th>\n",
       "      <th></th>\n",
       "      <th></th>\n",
       "      <th></th>\n",
       "      <th></th>\n",
       "      <th></th>\n",
       "      <th></th>\n",
       "      <th></th>\n",
       "      <th></th>\n",
       "      <th></th>\n",
       "      <th></th>\n",
       "      <th></th>\n",
       "      <th></th>\n",
       "    </tr>\n",
       "  </thead>\n",
       "  <tbody>\n",
       "    <tr>\n",
       "      <th>Direct</th>\n",
       "      <td>0</td>\n",
       "      <td>0.0</td>\n",
       "      <td>0</td>\n",
       "      <td>0.0</td>\n",
       "      <td>12</td>\n",
       "      <td>354.000000</td>\n",
       "      <td>0.000000</td>\n",
       "      <td>0.018182</td>\n",
       "      <td>0.0</td>\n",
       "      <td>0.0</td>\n",
       "      <td>May</td>\n",
       "      <td>2</td>\n",
       "      <td>7</td>\n",
       "      <td>1</td>\n",
       "      <td>New_Visitor</td>\n",
       "      <td>True</td>\n",
       "      <td>0</td>\n",
       "      <td>354.000000</td>\n",
       "    </tr>\n",
       "    <tr>\n",
       "      <th>Organic</th>\n",
       "      <td>0</td>\n",
       "      <td>0.0</td>\n",
       "      <td>0</td>\n",
       "      <td>0.0</td>\n",
       "      <td>8</td>\n",
       "      <td>764.666667</td>\n",
       "      <td>0.025000</td>\n",
       "      <td>0.043750</td>\n",
       "      <td>0.0</td>\n",
       "      <td>0.0</td>\n",
       "      <td>Nov</td>\n",
       "      <td>3</td>\n",
       "      <td>2</td>\n",
       "      <td>4</td>\n",
       "      <td>Returning_Visitor</td>\n",
       "      <td>False</td>\n",
       "      <td>0</td>\n",
       "      <td>764.666667</td>\n",
       "    </tr>\n",
       "    <tr>\n",
       "      <th>Paid</th>\n",
       "      <td>0</td>\n",
       "      <td>0.0</td>\n",
       "      <td>0</td>\n",
       "      <td>0.0</td>\n",
       "      <td>1</td>\n",
       "      <td>0.000000</td>\n",
       "      <td>0.200000</td>\n",
       "      <td>0.200000</td>\n",
       "      <td>0.0</td>\n",
       "      <td>0.0</td>\n",
       "      <td>Nov</td>\n",
       "      <td>2</td>\n",
       "      <td>2</td>\n",
       "      <td>1</td>\n",
       "      <td>New_Visitor</td>\n",
       "      <td>True</td>\n",
       "      <td>0</td>\n",
       "      <td>0.000000</td>\n",
       "    </tr>\n",
       "    <tr>\n",
       "      <th>Social</th>\n",
       "      <td>1</td>\n",
       "      <td>56.0</td>\n",
       "      <td>0</td>\n",
       "      <td>0.0</td>\n",
       "      <td>7</td>\n",
       "      <td>92.500000</td>\n",
       "      <td>0.088889</td>\n",
       "      <td>0.122222</td>\n",
       "      <td>0.0</td>\n",
       "      <td>0.4</td>\n",
       "      <td>May</td>\n",
       "      <td>3</td>\n",
       "      <td>2</td>\n",
       "      <td>1</td>\n",
       "      <td>Returning_Visitor</td>\n",
       "      <td>False</td>\n",
       "      <td>0</td>\n",
       "      <td>148.500000</td>\n",
       "    </tr>\n",
       "  </tbody>\n",
       "</table>\n",
       "</div>"
      ],
      "text/plain": [
       "             Administrative  Administrative_Duration  Informational  \\\n",
       "TrafficType                                                           \n",
       "Direct                    0                      0.0              0   \n",
       "Organic                   0                      0.0              0   \n",
       "Paid                      0                      0.0              0   \n",
       "Social                    1                     56.0              0   \n",
       "\n",
       "             Informational_Duration  ProductRelated  ProductRelated_Duration  \\\n",
       "TrafficType                                                                    \n",
       "Direct                          0.0              12               354.000000   \n",
       "Organic                         0.0               8               764.666667   \n",
       "Paid                            0.0               1                 0.000000   \n",
       "Social                          0.0               7                92.500000   \n",
       "\n",
       "             BounceRates  ExitRates  PageValues  SpecialDay Month  \\\n",
       "TrafficType                                                         \n",
       "Direct          0.000000   0.018182         0.0         0.0   May   \n",
       "Organic         0.025000   0.043750         0.0         0.0   Nov   \n",
       "Paid            0.200000   0.200000         0.0         0.0   Nov   \n",
       "Social          0.088889   0.122222         0.0         0.4   May   \n",
       "\n",
       "             OperatingSystems  Browser  Region        VisitorType  Weekend  \\\n",
       "TrafficType                                                                  \n",
       "Direct                      2        7       1        New_Visitor     True   \n",
       "Organic                     3        2       4  Returning_Visitor    False   \n",
       "Paid                        2        2       1        New_Visitor     True   \n",
       "Social                      3        2       1  Returning_Visitor    False   \n",
       "\n",
       "             Revenue  total_time  \n",
       "TrafficType                       \n",
       "Direct             0  354.000000  \n",
       "Organic            0  764.666667  \n",
       "Paid               0    0.000000  \n",
       "Social             0  148.500000  "
      ]
     },
     "execution_count": 27,
     "metadata": {},
     "output_type": "execute_result"
    }
   ],
   "source": [
    "#we group the dataset based on traffic type\n",
    "traffic_data = shop_int_data.groupby(['TrafficType'])\n",
    "\n",
    "#This shows the first members of each group\n",
    "traffic_data.first() "
   ]
  },
  {
   "cell_type": "code",
   "execution_count": 28,
   "metadata": {
    "colab": {
     "base_uri": "https://localhost:8080/",
     "height": 270
    },
    "id": "TqmgZ1Bs1C43",
    "outputId": "86cae3a6-9d5a-4ecc-b121-7c65df4e6ba3"
   },
   "outputs": [
    {
     "data": {
      "text/html": [
       "<div>\n",
       "<style scoped>\n",
       "    .dataframe tbody tr th:only-of-type {\n",
       "        vertical-align: middle;\n",
       "    }\n",
       "\n",
       "    .dataframe tbody tr th {\n",
       "        vertical-align: top;\n",
       "    }\n",
       "\n",
       "    .dataframe thead th {\n",
       "        text-align: right;\n",
       "    }\n",
       "</style>\n",
       "<table border=\"1\" class=\"dataframe\">\n",
       "  <thead>\n",
       "    <tr style=\"text-align: right;\">\n",
       "      <th></th>\n",
       "      <th>Administrative</th>\n",
       "      <th>Administrative_Duration</th>\n",
       "      <th>Informational</th>\n",
       "      <th>Informational_Duration</th>\n",
       "      <th>ProductRelated</th>\n",
       "      <th>ProductRelated_Duration</th>\n",
       "      <th>BounceRates</th>\n",
       "      <th>ExitRates</th>\n",
       "      <th>PageValues</th>\n",
       "      <th>SpecialDay</th>\n",
       "      <th>Month</th>\n",
       "      <th>OperatingSystems</th>\n",
       "      <th>Browser</th>\n",
       "      <th>Region</th>\n",
       "      <th>TrafficType</th>\n",
       "      <th>VisitorType</th>\n",
       "      <th>Weekend</th>\n",
       "      <th>Revenue</th>\n",
       "      <th>total_time</th>\n",
       "    </tr>\n",
       "  </thead>\n",
       "  <tbody>\n",
       "    <tr>\n",
       "      <th>1</th>\n",
       "      <td>0</td>\n",
       "      <td>0.000000</td>\n",
       "      <td>0</td>\n",
       "      <td>0.0</td>\n",
       "      <td>8</td>\n",
       "      <td>764.666667</td>\n",
       "      <td>0.025000</td>\n",
       "      <td>0.043750</td>\n",
       "      <td>0.000000</td>\n",
       "      <td>0.0</td>\n",
       "      <td>Nov</td>\n",
       "      <td>3</td>\n",
       "      <td>2</td>\n",
       "      <td>4</td>\n",
       "      <td>Organic</td>\n",
       "      <td>Returning_Visitor</td>\n",
       "      <td>False</td>\n",
       "      <td>0</td>\n",
       "      <td>764.666667</td>\n",
       "    </tr>\n",
       "    <tr>\n",
       "      <th>16</th>\n",
       "      <td>1</td>\n",
       "      <td>19.666667</td>\n",
       "      <td>0</td>\n",
       "      <td>0.0</td>\n",
       "      <td>14</td>\n",
       "      <td>512.111111</td>\n",
       "      <td>0.028571</td>\n",
       "      <td>0.030000</td>\n",
       "      <td>0.000000</td>\n",
       "      <td>0.0</td>\n",
       "      <td>Mar</td>\n",
       "      <td>3</td>\n",
       "      <td>2</td>\n",
       "      <td>3</td>\n",
       "      <td>Organic</td>\n",
       "      <td>Returning_Visitor</td>\n",
       "      <td>True</td>\n",
       "      <td>0</td>\n",
       "      <td>531.777778</td>\n",
       "    </tr>\n",
       "    <tr>\n",
       "      <th>19</th>\n",
       "      <td>6</td>\n",
       "      <td>167.000000</td>\n",
       "      <td>0</td>\n",
       "      <td>0.0</td>\n",
       "      <td>71</td>\n",
       "      <td>1445.458333</td>\n",
       "      <td>0.004054</td>\n",
       "      <td>0.013964</td>\n",
       "      <td>12.308117</td>\n",
       "      <td>0.0</td>\n",
       "      <td>Nov</td>\n",
       "      <td>3</td>\n",
       "      <td>2</td>\n",
       "      <td>1</td>\n",
       "      <td>Organic</td>\n",
       "      <td>Returning_Visitor</td>\n",
       "      <td>False</td>\n",
       "      <td>1</td>\n",
       "      <td>1612.458333</td>\n",
       "    </tr>\n",
       "    <tr>\n",
       "      <th>24</th>\n",
       "      <td>4</td>\n",
       "      <td>229.250000</td>\n",
       "      <td>0</td>\n",
       "      <td>0.0</td>\n",
       "      <td>8</td>\n",
       "      <td>372.250000</td>\n",
       "      <td>0.022222</td>\n",
       "      <td>0.009524</td>\n",
       "      <td>0.000000</td>\n",
       "      <td>0.0</td>\n",
       "      <td>Dec</td>\n",
       "      <td>1</td>\n",
       "      <td>2</td>\n",
       "      <td>1</td>\n",
       "      <td>Organic</td>\n",
       "      <td>Returning_Visitor</td>\n",
       "      <td>False</td>\n",
       "      <td>0</td>\n",
       "      <td>601.500000</td>\n",
       "    </tr>\n",
       "    <tr>\n",
       "      <th>30</th>\n",
       "      <td>4</td>\n",
       "      <td>64.500000</td>\n",
       "      <td>0</td>\n",
       "      <td>0.0</td>\n",
       "      <td>28</td>\n",
       "      <td>852.333333</td>\n",
       "      <td>0.013793</td>\n",
       "      <td>0.024548</td>\n",
       "      <td>0.000000</td>\n",
       "      <td>0.0</td>\n",
       "      <td>May</td>\n",
       "      <td>2</td>\n",
       "      <td>2</td>\n",
       "      <td>1</td>\n",
       "      <td>Organic</td>\n",
       "      <td>New_Visitor</td>\n",
       "      <td>True</td>\n",
       "      <td>0</td>\n",
       "      <td>916.833333</td>\n",
       "    </tr>\n",
       "  </tbody>\n",
       "</table>\n",
       "</div>"
      ],
      "text/plain": [
       "    Administrative  Administrative_Duration  Informational  \\\n",
       "1                0                 0.000000              0   \n",
       "16               1                19.666667              0   \n",
       "19               6               167.000000              0   \n",
       "24               4               229.250000              0   \n",
       "30               4                64.500000              0   \n",
       "\n",
       "    Informational_Duration  ProductRelated  ProductRelated_Duration  \\\n",
       "1                      0.0               8               764.666667   \n",
       "16                     0.0              14               512.111111   \n",
       "19                     0.0              71              1445.458333   \n",
       "24                     0.0               8               372.250000   \n",
       "30                     0.0              28               852.333333   \n",
       "\n",
       "    BounceRates  ExitRates  PageValues  SpecialDay Month  OperatingSystems  \\\n",
       "1      0.025000   0.043750    0.000000         0.0   Nov                 3   \n",
       "16     0.028571   0.030000    0.000000         0.0   Mar                 3   \n",
       "19     0.004054   0.013964   12.308117         0.0   Nov                 3   \n",
       "24     0.022222   0.009524    0.000000         0.0   Dec                 1   \n",
       "30     0.013793   0.024548    0.000000         0.0   May                 2   \n",
       "\n",
       "    Browser  Region TrafficType        VisitorType  Weekend  Revenue  \\\n",
       "1         2       4     Organic  Returning_Visitor    False        0   \n",
       "16        2       3     Organic  Returning_Visitor     True        0   \n",
       "19        2       1     Organic  Returning_Visitor    False        1   \n",
       "24        2       1     Organic  Returning_Visitor    False        0   \n",
       "30        2       1     Organic        New_Visitor     True        0   \n",
       "\n",
       "     total_time  \n",
       "1    764.666667  \n",
       "16   531.777778  \n",
       "19  1612.458333  \n",
       "24   601.500000  \n",
       "30   916.833333  "
      ]
     },
     "execution_count": 28,
     "metadata": {},
     "output_type": "execute_result"
    }
   ],
   "source": [
    "#we view some members of the organic traffic group\n",
    "traffic_data.get_group('Organic').head()"
   ]
  },
  {
   "cell_type": "markdown",
   "metadata": {
    "id": "71qw18wu1xDu"
   },
   "source": [
    "The group is only formed in the traffic_data and does not apply to the main dataset called shop_int_data"
   ]
  },
  {
   "cell_type": "markdown",
   "metadata": {
    "id": "63YAq2nm2RE-"
   },
   "source": [
    "**Q.  Bounce rate is calculated for the pages through which the user enters the website which we assume to be landing page for all sessions. How often did visitors click the wrong link? How does bounce rate affect the revenue?**"
   ]
  },
  {
   "cell_type": "markdown",
   "metadata": {
    "id": "eZ7SgKKqF6Aw"
   },
   "source": [
    "In reality, bounce rate is calculated when a visitor opens then closes the website. It is calculated for the first page of the website that a visitor gets to. For different users in one session, they will have different first pages depending on how they got to the website.\n",
    "\n",
    "Because this is an ecommerce website and we expect visitors to view more than one page so a high bounce rate of 1 is bad."
   ]
  },
  {
   "cell_type": "code",
   "execution_count": 29,
   "metadata": {
    "colab": {
     "base_uri": "https://localhost:8080/"
    },
    "id": "g-Jvokkj_B4J",
    "outputId": "8dc37694-e9f5-4c38-efb5-230ace6c5492"
   },
   "outputs": [
    {
     "data": {
      "text/plain": [
       "0.021373405717722973"
      ]
     },
     "execution_count": 29,
     "metadata": {},
     "output_type": "execute_result"
    }
   ],
   "source": [
    "#find the mean bounce rate\n",
    "shop_int_data['BounceRates'].mean()"
   ]
  },
  {
   "cell_type": "markdown",
   "metadata": {
    "id": "yy5YfzeH_Mw3"
   },
   "source": [
    "0.02 is a quite low bounce rate. This means that the people who stayed and continued browsing after the landing page opened are more than those who bounced off for the overall sessions of the dataset."
   ]
  },
  {
   "cell_type": "code",
   "execution_count": 30,
   "metadata": {
    "colab": {
     "base_uri": "https://localhost:8080/",
     "height": 113
    },
    "id": "PJuDUlpt_LJ8",
    "outputId": "76eedbdd-3190-4217-ce3d-df7fbc0c2335"
   },
   "outputs": [
    {
     "data": {
      "text/html": [
       "<div>\n",
       "<style scoped>\n",
       "    .dataframe tbody tr th:only-of-type {\n",
       "        vertical-align: middle;\n",
       "    }\n",
       "\n",
       "    .dataframe tbody tr th {\n",
       "        vertical-align: top;\n",
       "    }\n",
       "\n",
       "    .dataframe thead th {\n",
       "        text-align: right;\n",
       "    }\n",
       "</style>\n",
       "<table border=\"1\" class=\"dataframe\">\n",
       "  <thead>\n",
       "    <tr style=\"text-align: right;\">\n",
       "      <th></th>\n",
       "      <th>Administrative</th>\n",
       "      <th>Administrative_Duration</th>\n",
       "      <th>Informational</th>\n",
       "      <th>Informational_Duration</th>\n",
       "      <th>ProductRelated</th>\n",
       "      <th>ProductRelated_Duration</th>\n",
       "      <th>BounceRates</th>\n",
       "      <th>ExitRates</th>\n",
       "      <th>PageValues</th>\n",
       "      <th>SpecialDay</th>\n",
       "      <th>Month</th>\n",
       "      <th>OperatingSystems</th>\n",
       "      <th>Browser</th>\n",
       "      <th>Region</th>\n",
       "      <th>TrafficType</th>\n",
       "      <th>VisitorType</th>\n",
       "      <th>Weekend</th>\n",
       "      <th>Revenue</th>\n",
       "      <th>total_time</th>\n",
       "    </tr>\n",
       "  </thead>\n",
       "  <tbody>\n",
       "  </tbody>\n",
       "</table>\n",
       "</div>"
      ],
      "text/plain": [
       "Empty DataFrame\n",
       "Columns: [Administrative, Administrative_Duration, Informational, Informational_Duration, ProductRelated, ProductRelated_Duration, BounceRates, ExitRates, PageValues, SpecialDay, Month, OperatingSystems, Browser, Region, TrafficType, VisitorType, Weekend, Revenue, total_time]\n",
       "Index: []"
      ]
     },
     "execution_count": 30,
     "metadata": {},
     "output_type": "execute_result"
    }
   ],
   "source": [
    "#are there bounce rates of 1 that lead to a revenue? No.\n",
    "shop_int_data[(shop_int_data['BounceRates']==1) & (shop_int_data['Revenue']==1)]"
   ]
  },
  {
   "cell_type": "code",
   "execution_count": 31,
   "metadata": {
    "colab": {
     "base_uri": "https://localhost:8080/"
    },
    "id": "7b7xW8CyAWhX",
    "outputId": "67c64f6b-ecbc-4e29-a510-d16d535c613d"
   },
   "outputs": [
    {
     "data": {
      "text/plain": [
       "51"
      ]
     },
     "execution_count": 31,
     "metadata": {},
     "output_type": "execute_result"
    }
   ],
   "source": [
    "#are there bounce rates higher than the mean that leads to a revenue?\n",
    "shop_int_data[(shop_int_data['BounceRates'] > (shop_int_data['BounceRates'].mean())) & (shop_int_data['Revenue']==1)]['TrafficType'].shape[0]"
   ]
  },
  {
   "cell_type": "markdown",
   "metadata": {
    "id": "cw9yX2x3BPxd"
   },
   "source": [
    "As we can see from the result of this code, there are less sessions where the bounce rate was higher than the mean bounce rate and a revenue was made. \n",
    "\n",
    "For bounce rate, we are only concerned about the initial page and how it affects the rest of the user's interaction with the website. How many people entered through this page? Did they leave or did they continue to browse the website? A low rate means they stayed and a high rate means they left.\n",
    "\n",
    "A higher percentage of visitors in the above result showed that they got to the website directly through its link, so they had no reason to leave and consequently made a purchase. "
   ]
  },
  {
   "cell_type": "markdown",
   "metadata": {
    "id": "YVyzIMT02nqZ"
   },
   "source": [
    "**Q) Exit rate is calculated for the pages through which the users leave the website. How often did these clicks make it to the revenue page ?**"
   ]
  },
  {
   "cell_type": "markdown",
   "metadata": {
    "id": "ihctGpXS35Vf"
   },
   "source": [
    "Assume the exit rate here is for the payment page. Users leave the website through this page to the external payment platform e.g Paypal. So, we want a high exit rate.  \n",
    "\n",
    "That the visitors got to the payment page does not guarentee that they will pay. A non zero page value is the only indicator that a payment was made (as we noted during the preparation of the data)."
   ]
  },
  {
   "cell_type": "code",
   "execution_count": 32,
   "metadata": {
    "colab": {
     "base_uri": "https://localhost:8080/"
    },
    "id": "9KZnr2Y9kd1J",
    "outputId": "76dac052-99e7-4908-8d0b-1525c5f863c1"
   },
   "outputs": [
    {
     "data": {
      "text/plain": [
       "0.04327171306326235"
      ]
     },
     "execution_count": 32,
     "metadata": {},
     "output_type": "execute_result"
    }
   ],
   "source": [
    "#find the mean exit rate for all the sessions.\n",
    "shop_int_data['ExitRates'].mean()"
   ]
  },
  {
   "cell_type": "markdown",
   "metadata": {
    "id": "EcgWoJ4nlBfq"
   },
   "source": [
    "A mean of 0.04 shows that less people left through the payment page than those who, lets say, returned to the product related page or to the landing page.\n"
   ]
  },
  {
   "cell_type": "markdown",
   "metadata": {
    "id": "b9n1c50A4Lz6"
   },
   "source": [
    "## **5.) Do you think paid ads were effective for the purpose of special day?**"
   ]
  },
  {
   "cell_type": "code",
   "execution_count": 33,
   "metadata": {
    "colab": {
     "base_uri": "https://localhost:8080/"
    },
    "id": "1pPyP8Ng3Kmm",
    "outputId": "bffd1c13-3124-4396-e75d-0b5454ae26e2"
   },
   "outputs": [
    {
     "data": {
      "text/plain": [
       "Direct     697\n",
       "Social     130\n",
       "Organic     60\n",
       "Paid        16\n",
       "Name: TrafficType, dtype: int64"
      ]
     },
     "execution_count": 33,
     "metadata": {},
     "output_type": "execute_result"
    }
   ],
   "source": [
    "#type of traffic for all special day visit\n",
    "shop_int_data[(shop_int_data['SpecialDay'] > 0)]['TrafficType'].value_counts()"
   ]
  },
  {
   "cell_type": "code",
   "execution_count": 34,
   "metadata": {},
   "outputs": [
    {
     "data": {
      "text/plain": [
       "Direct     58\n",
       "Social      5\n",
       "Organic     4\n",
       "Name: TrafficType, dtype: int64"
      ]
     },
     "execution_count": 34,
     "metadata": {},
     "output_type": "execute_result"
    }
   ],
   "source": [
    "#special day purchase based on traffic type\n",
    "shop_int_data[(shop_int_data['SpecialDay'] > 0) & (shop_int_data['Revenue'] == 1)]['TrafficType'].value_counts()"
   ]
  },
  {
   "cell_type": "markdown",
   "metadata": {
    "id": "x4VvqcSungNd"
   },
   "source": [
    "Apparently, paid ads had no significant effect on purchases related to special day. \n",
    "\n",
    "A closer analysis shows that over 50% of the website visitors are by direct traffic. This suports the earlier analysis that 85% of the website visitors are Returning Visitors. This means that these visitors already have a direct link to the website."
   ]
  },
  {
   "cell_type": "markdown",
   "metadata": {
    "id": "8fVNEEh14tgT"
   },
   "source": [
    "## **6.) Import a dataframe of age and sexes. Merge with the shop_int_data dataset and use if for the following analysis.**"
   ]
  },
  {
   "cell_type": "markdown",
   "metadata": {
    "id": "IyfOWOd-6m8h"
   },
   "source": [
    "As an assumption, this dataset will indicate the user for each session."
   ]
  },
  {
   "cell_type": "markdown",
   "metadata": {
    "colab": {
     "base_uri": "https://localhost:8080/",
     "height": 73,
     "resources": {
      "http://localhost:8080/nbextensions/google.colab/files.js": {
       "data": "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",
       "headers": [
        [
         "content-type",
         "application/javascript"
        ]
       ],
       "ok": true,
       "status": 200,
       "status_text": ""
      }
     }
    },
    "id": "oSIc-jwPsV6n",
    "outputId": "8e716865-7c62-4590-d3ac-b1b310f816fb"
   },
   "source": [
    "from google.colab import files\n",
    "uploaded = files.upload()"
   ]
  },
  {
   "cell_type": "code",
   "execution_count": 35,
   "metadata": {
    "colab": {
     "base_uri": "https://localhost:8080/"
    },
    "id": "oMsMFgFbsOr1",
    "outputId": "3ac269f4-f6d8-459a-a9ab-fa094d7601e0"
   },
   "outputs": [
    {
     "name": "stdout",
     "output_type": "stream",
     "text": [
      "<class 'pandas.core.frame.DataFrame'>\n",
      "RangeIndex: 200 entries, 0 to 199\n",
      "Data columns (total 5 columns):\n",
      " #   Column       Non-Null Count  Dtype \n",
      "---  ------       --------------  ----- \n",
      " 0   Customer_id  200 non-null    int64 \n",
      " 1   Gender       200 non-null    object\n",
      " 2   Age          200 non-null    int64 \n",
      " 3   Income       200 non-null    int64 \n",
      " 4   Spend_score  200 non-null    int64 \n",
      "dtypes: int64(4), object(1)\n",
      "memory usage: 7.9+ KB\n"
     ]
    }
   ],
   "source": [
    "mall_customers = pd.read_csv('Mall_Customers.csv')\n",
    "mall_customers.info()"
   ]
  },
  {
   "cell_type": "markdown",
   "metadata": {
    "id": "Jd7DEkWrs5Ue"
   },
   "source": [
    "\n",
    "The annual income is in thousand dollars.\n",
    "\n",
    "Since there are just 200 rows in the user dataset, we will create a smaller version of the shop_int_data dataset then merge with the user dataset.\n"
   ]
  },
  {
   "cell_type": "code",
   "execution_count": 36,
   "metadata": {
    "colab": {
     "base_uri": "https://localhost:8080/"
    },
    "id": "1JkQj1Jssty6",
    "outputId": "c142b088-6a5d-4eda-918c-5259f8ec1ed1"
   },
   "outputs": [
    {
     "data": {
      "text/plain": [
       "Index(['ProductRelated', 'ProductRelated_Duration', 'SpecialDay', 'Region',\n",
       "       'TrafficType', 'VisitorType', 'Weekend', 'Revenue'],\n",
       "      dtype='object')"
      ]
     },
     "execution_count": 36,
     "metadata": {},
     "output_type": "execute_result"
    }
   ],
   "source": [
    "#lets pick 200 rows between 5800 and 7000 of the shop_int_data\n",
    "shop_int_data_short = shop_int_data.loc[5800:6030]\n",
    "\n",
    "\n",
    "#drop unneccsary columns\n",
    "shop_int_data_short.drop(['Administrative', 'Administrative_Duration','Informational', 'Informational_Duration','BounceRates', 'ExitRates', 'PageValues', 'Month',\t'OperatingSystems',\t'Browser','total_time'], axis =1, inplace=True)\n",
    "shop_int_data_short.columns"
   ]
  },
  {
   "cell_type": "markdown",
   "metadata": {
    "id": "sBzLRPdIVsDh"
   },
   "source": [
    "The two dataframes: shop_int_data_short and mall_customers do not have any series in common. i.e no common column(s).\n",
    "\n",
    "So we insert the CustomerID series into the shop_int_data_short dataframe so that they can have a common column and then we use the merge function. By this way, we also get rid of the default index of the shop_int_data_short."
   ]
  },
  {
   "cell_type": "code",
   "execution_count": 37,
   "metadata": {
    "colab": {
     "base_uri": "https://localhost:8080/"
    },
    "id": "krp0O-KadBtU",
    "outputId": "5b7d612d-1dc3-4788-bba4-44064c9c034a"
   },
   "outputs": [
    {
     "data": {
      "text/plain": [
       "Index(['ProductRelated', 'ProductRelated_Duration', 'SpecialDay', 'Region',\n",
       "       'TrafficType', 'VisitorType', 'Weekend', 'Revenue', 'Customer_id'],\n",
       "      dtype='object')"
      ]
     },
     "execution_count": 37,
     "metadata": {},
     "output_type": "execute_result"
    }
   ],
   "source": [
    "#this creates a common column, customerID, for the two datasets\n",
    "\n",
    "shop_int_data_short['Customer_id'] = np.linspace(1,200,200)\n",
    "shop_int_data_short.columns"
   ]
  },
  {
   "cell_type": "code",
   "execution_count": 38,
   "metadata": {
    "colab": {
     "base_uri": "https://localhost:8080/",
     "height": 285
    },
    "id": "ASQ6ZlaLg9W-",
    "outputId": "9e244df2-1a97-4c98-b178-4657d3359d95"
   },
   "outputs": [
    {
     "data": {
      "text/html": [
       "<div>\n",
       "<style scoped>\n",
       "    .dataframe tbody tr th:only-of-type {\n",
       "        vertical-align: middle;\n",
       "    }\n",
       "\n",
       "    .dataframe tbody tr th {\n",
       "        vertical-align: top;\n",
       "    }\n",
       "\n",
       "    .dataframe thead th {\n",
       "        text-align: right;\n",
       "    }\n",
       "</style>\n",
       "<table border=\"1\" class=\"dataframe\">\n",
       "  <thead>\n",
       "    <tr style=\"text-align: right;\">\n",
       "      <th></th>\n",
       "      <th>Customer_id</th>\n",
       "      <th>Gender</th>\n",
       "      <th>Age</th>\n",
       "      <th>Income</th>\n",
       "      <th>Spend_score</th>\n",
       "      <th>ProductRelated</th>\n",
       "      <th>ProductRelated_Duration</th>\n",
       "      <th>SpecialDay</th>\n",
       "      <th>Region</th>\n",
       "      <th>TrafficType</th>\n",
       "      <th>VisitorType</th>\n",
       "      <th>Weekend</th>\n",
       "      <th>Revenue</th>\n",
       "    </tr>\n",
       "  </thead>\n",
       "  <tbody>\n",
       "    <tr>\n",
       "      <th>0</th>\n",
       "      <td>1</td>\n",
       "      <td>Male</td>\n",
       "      <td>19</td>\n",
       "      <td>15</td>\n",
       "      <td>39</td>\n",
       "      <td>25</td>\n",
       "      <td>1556.491429</td>\n",
       "      <td>0.0</td>\n",
       "      <td>4</td>\n",
       "      <td>Direct</td>\n",
       "      <td>Returning_Visitor</td>\n",
       "      <td>True</td>\n",
       "      <td>1</td>\n",
       "    </tr>\n",
       "    <tr>\n",
       "      <th>1</th>\n",
       "      <td>2</td>\n",
       "      <td>Male</td>\n",
       "      <td>21</td>\n",
       "      <td>15</td>\n",
       "      <td>81</td>\n",
       "      <td>30</td>\n",
       "      <td>440.533333</td>\n",
       "      <td>0.0</td>\n",
       "      <td>2</td>\n",
       "      <td>Direct</td>\n",
       "      <td>Returning_Visitor</td>\n",
       "      <td>True</td>\n",
       "      <td>0</td>\n",
       "    </tr>\n",
       "    <tr>\n",
       "      <th>2</th>\n",
       "      <td>3</td>\n",
       "      <td>Female</td>\n",
       "      <td>20</td>\n",
       "      <td>16</td>\n",
       "      <td>6</td>\n",
       "      <td>63</td>\n",
       "      <td>1021.000000</td>\n",
       "      <td>0.8</td>\n",
       "      <td>1</td>\n",
       "      <td>Direct</td>\n",
       "      <td>Returning_Visitor</td>\n",
       "      <td>False</td>\n",
       "      <td>0</td>\n",
       "    </tr>\n",
       "    <tr>\n",
       "      <th>3</th>\n",
       "      <td>4</td>\n",
       "      <td>Female</td>\n",
       "      <td>23</td>\n",
       "      <td>16</td>\n",
       "      <td>77</td>\n",
       "      <td>118</td>\n",
       "      <td>3903.167094</td>\n",
       "      <td>0.0</td>\n",
       "      <td>1</td>\n",
       "      <td>Direct</td>\n",
       "      <td>Returning_Visitor</td>\n",
       "      <td>False</td>\n",
       "      <td>1</td>\n",
       "    </tr>\n",
       "    <tr>\n",
       "      <th>4</th>\n",
       "      <td>5</td>\n",
       "      <td>Female</td>\n",
       "      <td>31</td>\n",
       "      <td>17</td>\n",
       "      <td>40</td>\n",
       "      <td>20</td>\n",
       "      <td>598.778571</td>\n",
       "      <td>0.2</td>\n",
       "      <td>1</td>\n",
       "      <td>Direct</td>\n",
       "      <td>New_Visitor</td>\n",
       "      <td>False</td>\n",
       "      <td>1</td>\n",
       "    </tr>\n",
       "  </tbody>\n",
       "</table>\n",
       "</div>"
      ],
      "text/plain": [
       "   Customer_id  Gender  Age  Income  Spend_score  ProductRelated  \\\n",
       "0            1    Male   19      15           39              25   \n",
       "1            2    Male   21      15           81              30   \n",
       "2            3  Female   20      16            6              63   \n",
       "3            4  Female   23      16           77             118   \n",
       "4            5  Female   31      17           40              20   \n",
       "\n",
       "   ProductRelated_Duration  SpecialDay  Region TrafficType        VisitorType  \\\n",
       "0              1556.491429         0.0       4      Direct  Returning_Visitor   \n",
       "1               440.533333         0.0       2      Direct  Returning_Visitor   \n",
       "2              1021.000000         0.8       1      Direct  Returning_Visitor   \n",
       "3              3903.167094         0.0       1      Direct  Returning_Visitor   \n",
       "4               598.778571         0.2       1      Direct        New_Visitor   \n",
       "\n",
       "   Weekend  Revenue  \n",
       "0     True        1  \n",
       "1     True        0  \n",
       "2    False        0  \n",
       "3    False        1  \n",
       "4    False        1  "
      ]
     },
     "execution_count": 38,
     "metadata": {},
     "output_type": "execute_result"
    }
   ],
   "source": [
    "#the datasets get merged and the common column is not repeated\n",
    "users_data = mall_customers.merge(shop_int_data_short)\n",
    "users_data.head()"
   ]
  },
  {
   "cell_type": "markdown",
   "metadata": {
    "id": "RClLH1J6w80m"
   },
   "source": [
    "**Q) Which gender made the most purchase and spent more time on the website?**"
   ]
  },
  {
   "cell_type": "code",
   "execution_count": 40,
   "metadata": {
    "colab": {
     "base_uri": "https://localhost:8080/"
    },
    "id": "f4z1y_sV45Md",
    "outputId": "da209414-aa66-4c10-a7fe-2a38a6a7a263"
   },
   "outputs": [
    {
     "data": {
      "text/plain": [
       "Female    112\n",
       "Male       88\n",
       "Name: Gender, dtype: int64"
      ]
     },
     "execution_count": 40,
     "metadata": {},
     "output_type": "execute_result"
    }
   ],
   "source": [
    "#the number of males and females in the dataset\n",
    "users_data['Gender'].value_counts()"
   ]
  },
  {
   "cell_type": "code",
   "execution_count": 42,
   "metadata": {
    "colab": {
     "base_uri": "https://localhost:8080/"
    },
    "id": "1n63NbjU5Pv3",
    "outputId": "7874d88b-41d0-41d1-e53e-c54a1c401fc8"
   },
   "outputs": [
    {
     "data": {
      "text/plain": [
       "13"
      ]
     },
     "execution_count": 42,
     "metadata": {},
     "output_type": "execute_result"
    }
   ],
   "source": [
    "#the number of females who made a purchase\n",
    "users_data[(users_data['Gender'] =='Female') & (users_data['Revenue'] == 1)].shape[0]"
   ]
  },
  {
   "cell_type": "code",
   "execution_count": 44,
   "metadata": {
    "colab": {
     "base_uri": "https://localhost:8080/"
    },
    "id": "TwZwoiyT51z5",
    "outputId": "bca22e09-8188-4a6b-e4a3-17c1f2a510fa"
   },
   "outputs": [
    {
     "data": {
      "text/plain": [
       "13"
      ]
     },
     "execution_count": 44,
     "metadata": {},
     "output_type": "execute_result"
    }
   ],
   "source": [
    "#the number of males who made a purchase\n",
    "users_data[(users_data['Gender'] =='Male') & (users_data['Revenue'] == 1)].shape[0]"
   ]
  },
  {
   "cell_type": "code",
   "execution_count": 46,
   "metadata": {
    "colab": {
     "base_uri": "https://localhost:8080/"
    },
    "id": "bB_PuJwr6A_Q",
    "outputId": "b46c465a-06a8-4d46-e3be-52601a0c4eff"
   },
   "outputs": [
    {
     "data": {
      "text/plain": [
       "123014.98528929999"
      ]
     },
     "execution_count": 46,
     "metadata": {},
     "output_type": "execute_result"
    }
   ],
   "source": [
    "#the total time spent by females on the website\n",
    "users_data[(users_data['Gender'] =='Female')]['ProductRelated_Duration'].sum()"
   ]
  },
  {
   "cell_type": "code",
   "execution_count": 47,
   "metadata": {
    "colab": {
     "base_uri": "https://localhost:8080/"
    },
    "id": "kiq3_1zj6RWM",
    "outputId": "47b5f1d6-f68e-457d-8914-07e5805d3e2f"
   },
   "outputs": [
    {
     "data": {
      "text/plain": [
       "101772.42754233"
      ]
     },
     "execution_count": 47,
     "metadata": {},
     "output_type": "execute_result"
    }
   ],
   "source": [
    "#the total time spent by males on the website\n",
    "users_data[(users_data['Gender'] =='Male')]['ProductRelated_Duration'].sum()"
   ]
  },
  {
   "cell_type": "code",
   "execution_count": 49,
   "metadata": {
    "colab": {
     "base_uri": "https://localhost:8080/"
    },
    "id": "JXDQF1rr6XD7",
    "outputId": "e302bc2b-85a8-4a6b-93bb-b28e248d3d35"
   },
   "outputs": [
    {
     "data": {
      "text/plain": [
       "31218.367303"
      ]
     },
     "execution_count": 49,
     "metadata": {},
     "output_type": "execute_result"
    }
   ],
   "source": [
    "#the total time spent by all males who made a purchase\n",
    "users_data[(users_data['Gender'] =='Male') & (users_data['Revenue'] == 1)]['ProductRelated_Duration'].sum()"
   ]
  },
  {
   "cell_type": "code",
   "execution_count": 50,
   "metadata": {
    "colab": {
     "base_uri": "https://localhost:8080/"
    },
    "id": "FxHjlbAK6feT",
    "outputId": "48df9f1e-71c8-4a9c-bb89-d1de07ef3048"
   },
   "outputs": [
    {
     "data": {
      "text/plain": [
       "17871.4467284"
      ]
     },
     "execution_count": 50,
     "metadata": {},
     "output_type": "execute_result"
    }
   ],
   "source": [
    "#the total time spent by all females who made a purchase\n",
    "users_data[(users_data['Gender'] =='Female') & (users_data['Revenue'] == 1)]['ProductRelated_Duration'].sum()"
   ]
  },
  {
   "cell_type": "markdown",
   "metadata": {
    "id": "g4QgpvSQ7ge3"
   },
   "source": [
    "Equal number of men and women made purchases on the website but men spent more time buying than women.\n",
    "\n",
    "Generally, women spent more time on the website since there are more women than men in this dataset."
   ]
  },
  {
   "cell_type": "markdown",
   "metadata": {
    "id": "wAN-Pw0WxIzF"
   },
   "source": [
    "**Q.) What age grade has the highest income? How does this affect their spending?**"
   ]
  },
  {
   "cell_type": "code",
   "execution_count": 52,
   "metadata": {
    "colab": {
     "base_uri": "https://localhost:8080/"
    },
    "id": "KU9TgFLT-TdZ",
    "outputId": "8c523142-4907-4981-9f6d-e0d16871cfe9"
   },
   "outputs": [
    {
     "data": {
      "text/plain": [
       "(137, 60.56, 15)"
      ]
     },
     "execution_count": 52,
     "metadata": {},
     "output_type": "execute_result"
    }
   ],
   "source": [
    "max(users_data['Income']), users_data['Income'].mean(), min(users_data['Income'])"
   ]
  },
  {
   "cell_type": "code",
   "execution_count": 54,
   "metadata": {
    "colab": {
     "base_uri": "https://localhost:8080/",
     "height": 300
    },
    "id": "gH-rQT6u_wsO",
    "outputId": "6080a36c-7d17-4aa7-c4b5-99c7910dcfa2"
   },
   "outputs": [
    {
     "data": {
      "text/html": [
       "<div>\n",
       "<style scoped>\n",
       "    .dataframe tbody tr th:only-of-type {\n",
       "        vertical-align: middle;\n",
       "    }\n",
       "\n",
       "    .dataframe tbody tr th {\n",
       "        vertical-align: top;\n",
       "    }\n",
       "\n",
       "    .dataframe thead th {\n",
       "        text-align: right;\n",
       "    }\n",
       "</style>\n",
       "<table border=\"1\" class=\"dataframe\">\n",
       "  <thead>\n",
       "    <tr style=\"text-align: right;\">\n",
       "      <th></th>\n",
       "      <th>Customer_id</th>\n",
       "      <th>Age</th>\n",
       "      <th>Income</th>\n",
       "      <th>Spend_score</th>\n",
       "      <th>ProductRelated</th>\n",
       "      <th>ProductRelated_Duration</th>\n",
       "      <th>SpecialDay</th>\n",
       "      <th>Region</th>\n",
       "      <th>Revenue</th>\n",
       "    </tr>\n",
       "  </thead>\n",
       "  <tbody>\n",
       "    <tr>\n",
       "      <th>count</th>\n",
       "      <td>102.000000</td>\n",
       "      <td>102.000000</td>\n",
       "      <td>102.000000</td>\n",
       "      <td>102.000000</td>\n",
       "      <td>102.000000</td>\n",
       "      <td>102.000000</td>\n",
       "      <td>102.000000</td>\n",
       "      <td>102.000000</td>\n",
       "      <td>102.000000</td>\n",
       "    </tr>\n",
       "    <tr>\n",
       "      <th>mean</th>\n",
       "      <td>149.500000</td>\n",
       "      <td>37.872549</td>\n",
       "      <td>81.156863</td>\n",
       "      <td>50.372549</td>\n",
       "      <td>30.382353</td>\n",
       "      <td>1208.158247</td>\n",
       "      <td>0.074510</td>\n",
       "      <td>3.676471</td>\n",
       "      <td>0.117647</td>\n",
       "    </tr>\n",
       "    <tr>\n",
       "      <th>std</th>\n",
       "      <td>29.588849</td>\n",
       "      <td>12.153044</td>\n",
       "      <td>17.208532</td>\n",
       "      <td>29.236462</td>\n",
       "      <td>36.582754</td>\n",
       "      <td>1518.672046</td>\n",
       "      <td>0.217859</td>\n",
       "      <td>2.625698</td>\n",
       "      <td>0.323781</td>\n",
       "    </tr>\n",
       "    <tr>\n",
       "      <th>min</th>\n",
       "      <td>99.000000</td>\n",
       "      <td>18.000000</td>\n",
       "      <td>61.000000</td>\n",
       "      <td>1.000000</td>\n",
       "      <td>0.000000</td>\n",
       "      <td>0.000000</td>\n",
       "      <td>0.000000</td>\n",
       "      <td>1.000000</td>\n",
       "      <td>0.000000</td>\n",
       "    </tr>\n",
       "    <tr>\n",
       "      <th>25%</th>\n",
       "      <td>124.250000</td>\n",
       "      <td>30.000000</td>\n",
       "      <td>69.250000</td>\n",
       "      <td>23.250000</td>\n",
       "      <td>7.250000</td>\n",
       "      <td>185.875000</td>\n",
       "      <td>0.000000</td>\n",
       "      <td>1.000000</td>\n",
       "      <td>0.000000</td>\n",
       "    </tr>\n",
       "    <tr>\n",
       "      <th>50%</th>\n",
       "      <td>149.500000</td>\n",
       "      <td>36.000000</td>\n",
       "      <td>78.000000</td>\n",
       "      <td>48.500000</td>\n",
       "      <td>17.500000</td>\n",
       "      <td>666.591667</td>\n",
       "      <td>0.000000</td>\n",
       "      <td>3.000000</td>\n",
       "      <td>0.000000</td>\n",
       "    </tr>\n",
       "    <tr>\n",
       "      <th>75%</th>\n",
       "      <td>174.750000</td>\n",
       "      <td>45.750000</td>\n",
       "      <td>87.750000</td>\n",
       "      <td>75.000000</td>\n",
       "      <td>36.500000</td>\n",
       "      <td>1737.580357</td>\n",
       "      <td>0.000000</td>\n",
       "      <td>6.000000</td>\n",
       "      <td>0.000000</td>\n",
       "    </tr>\n",
       "    <tr>\n",
       "      <th>max</th>\n",
       "      <td>200.000000</td>\n",
       "      <td>68.000000</td>\n",
       "      <td>137.000000</td>\n",
       "      <td>97.000000</td>\n",
       "      <td>188.000000</td>\n",
       "      <td>8038.325302</td>\n",
       "      <td>1.000000</td>\n",
       "      <td>9.000000</td>\n",
       "      <td>1.000000</td>\n",
       "    </tr>\n",
       "  </tbody>\n",
       "</table>\n",
       "</div>"
      ],
      "text/plain": [
       "       Customer_id         Age      Income  Spend_score  ProductRelated  \\\n",
       "count   102.000000  102.000000  102.000000   102.000000      102.000000   \n",
       "mean    149.500000   37.872549   81.156863    50.372549       30.382353   \n",
       "std      29.588849   12.153044   17.208532    29.236462       36.582754   \n",
       "min      99.000000   18.000000   61.000000     1.000000        0.000000   \n",
       "25%     124.250000   30.000000   69.250000    23.250000        7.250000   \n",
       "50%     149.500000   36.000000   78.000000    48.500000       17.500000   \n",
       "75%     174.750000   45.750000   87.750000    75.000000       36.500000   \n",
       "max     200.000000   68.000000  137.000000    97.000000      188.000000   \n",
       "\n",
       "       ProductRelated_Duration  SpecialDay      Region     Revenue  \n",
       "count               102.000000  102.000000  102.000000  102.000000  \n",
       "mean               1208.158247    0.074510    3.676471    0.117647  \n",
       "std                1518.672046    0.217859    2.625698    0.323781  \n",
       "min                   0.000000    0.000000    1.000000    0.000000  \n",
       "25%                 185.875000    0.000000    1.000000    0.000000  \n",
       "50%                 666.591667    0.000000    3.000000    0.000000  \n",
       "75%                1737.580357    0.000000    6.000000    0.000000  \n",
       "max                8038.325302    1.000000    9.000000    1.000000  "
      ]
     },
     "execution_count": 54,
     "metadata": {},
     "output_type": "execute_result"
    }
   ],
   "source": [
    "#details of users who earned above the mean\n",
    "users_data[(users_data['Income'] >= 60.56)].describe()"
   ]
  },
  {
   "cell_type": "code",
   "execution_count": 56,
   "metadata": {
    "colab": {
     "base_uri": "https://localhost:8080/",
     "height": 300
    },
    "collapsed": true,
    "id": "vEbndC13AvaM",
    "outputId": "81256af7-04f7-4626-fa5a-88d2868cfdd2"
   },
   "outputs": [
    {
     "data": {
      "text/html": [
       "<div>\n",
       "<style scoped>\n",
       "    .dataframe tbody tr th:only-of-type {\n",
       "        vertical-align: middle;\n",
       "    }\n",
       "\n",
       "    .dataframe tbody tr th {\n",
       "        vertical-align: top;\n",
       "    }\n",
       "\n",
       "    .dataframe thead th {\n",
       "        text-align: right;\n",
       "    }\n",
       "</style>\n",
       "<table border=\"1\" class=\"dataframe\">\n",
       "  <thead>\n",
       "    <tr style=\"text-align: right;\">\n",
       "      <th></th>\n",
       "      <th>Customer_id</th>\n",
       "      <th>Age</th>\n",
       "      <th>Income</th>\n",
       "      <th>Spend_score</th>\n",
       "      <th>ProductRelated</th>\n",
       "      <th>ProductRelated_Duration</th>\n",
       "      <th>SpecialDay</th>\n",
       "      <th>Region</th>\n",
       "      <th>Revenue</th>\n",
       "    </tr>\n",
       "  </thead>\n",
       "  <tbody>\n",
       "    <tr>\n",
       "      <th>count</th>\n",
       "      <td>12.00000</td>\n",
       "      <td>12.000000</td>\n",
       "      <td>12.000000</td>\n",
       "      <td>12.000000</td>\n",
       "      <td>12.00000</td>\n",
       "      <td>12.000000</td>\n",
       "      <td>12.000000</td>\n",
       "      <td>12.000000</td>\n",
       "      <td>12.0</td>\n",
       "    </tr>\n",
       "    <tr>\n",
       "      <th>mean</th>\n",
       "      <td>146.00000</td>\n",
       "      <td>40.583333</td>\n",
       "      <td>79.166667</td>\n",
       "      <td>48.083333</td>\n",
       "      <td>42.50000</td>\n",
       "      <td>1597.063914</td>\n",
       "      <td>0.083333</td>\n",
       "      <td>2.916667</td>\n",
       "      <td>1.0</td>\n",
       "    </tr>\n",
       "    <tr>\n",
       "      <th>std</th>\n",
       "      <td>30.00909</td>\n",
       "      <td>16.389899</td>\n",
       "      <td>18.009257</td>\n",
       "      <td>27.294549</td>\n",
       "      <td>47.19688</td>\n",
       "      <td>1726.072116</td>\n",
       "      <td>0.288675</td>\n",
       "      <td>2.234373</td>\n",
       "      <td>0.0</td>\n",
       "    </tr>\n",
       "    <tr>\n",
       "      <th>min</th>\n",
       "      <td>108.00000</td>\n",
       "      <td>19.000000</td>\n",
       "      <td>63.000000</td>\n",
       "      <td>5.000000</td>\n",
       "      <td>6.00000</td>\n",
       "      <td>245.000000</td>\n",
       "      <td>0.000000</td>\n",
       "      <td>1.000000</td>\n",
       "      <td>1.0</td>\n",
       "    </tr>\n",
       "    <tr>\n",
       "      <th>25%</th>\n",
       "      <td>117.50000</td>\n",
       "      <td>28.000000</td>\n",
       "      <td>65.000000</td>\n",
       "      <td>33.250000</td>\n",
       "      <td>9.75000</td>\n",
       "      <td>591.116667</td>\n",
       "      <td>0.000000</td>\n",
       "      <td>1.000000</td>\n",
       "      <td>1.0</td>\n",
       "    </tr>\n",
       "    <tr>\n",
       "      <th>50%</th>\n",
       "      <td>144.50000</td>\n",
       "      <td>38.500000</td>\n",
       "      <td>76.500000</td>\n",
       "      <td>44.500000</td>\n",
       "      <td>27.00000</td>\n",
       "      <td>868.295833</td>\n",
       "      <td>0.000000</td>\n",
       "      <td>3.000000</td>\n",
       "      <td>1.0</td>\n",
       "    </tr>\n",
       "    <tr>\n",
       "      <th>75%</th>\n",
       "      <td>165.00000</td>\n",
       "      <td>54.500000</td>\n",
       "      <td>81.250000</td>\n",
       "      <td>62.500000</td>\n",
       "      <td>50.00000</td>\n",
       "      <td>1775.835524</td>\n",
       "      <td>0.000000</td>\n",
       "      <td>3.250000</td>\n",
       "      <td>1.0</td>\n",
       "    </tr>\n",
       "    <tr>\n",
       "      <th>max</th>\n",
       "      <td>197.00000</td>\n",
       "      <td>68.000000</td>\n",
       "      <td>126.000000</td>\n",
       "      <td>97.000000</td>\n",
       "      <td>171.00000</td>\n",
       "      <td>5341.784253</td>\n",
       "      <td>1.000000</td>\n",
       "      <td>9.000000</td>\n",
       "      <td>1.0</td>\n",
       "    </tr>\n",
       "  </tbody>\n",
       "</table>\n",
       "</div>"
      ],
      "text/plain": [
       "       Customer_id        Age      Income  Spend_score  ProductRelated  \\\n",
       "count     12.00000  12.000000   12.000000    12.000000        12.00000   \n",
       "mean     146.00000  40.583333   79.166667    48.083333        42.50000   \n",
       "std       30.00909  16.389899   18.009257    27.294549        47.19688   \n",
       "min      108.00000  19.000000   63.000000     5.000000         6.00000   \n",
       "25%      117.50000  28.000000   65.000000    33.250000         9.75000   \n",
       "50%      144.50000  38.500000   76.500000    44.500000        27.00000   \n",
       "75%      165.00000  54.500000   81.250000    62.500000        50.00000   \n",
       "max      197.00000  68.000000  126.000000    97.000000       171.00000   \n",
       "\n",
       "       ProductRelated_Duration  SpecialDay     Region  Revenue  \n",
       "count                12.000000   12.000000  12.000000     12.0  \n",
       "mean               1597.063914    0.083333   2.916667      1.0  \n",
       "std                1726.072116    0.288675   2.234373      0.0  \n",
       "min                 245.000000    0.000000   1.000000      1.0  \n",
       "25%                 591.116667    0.000000   1.000000      1.0  \n",
       "50%                 868.295833    0.000000   3.000000      1.0  \n",
       "75%                1775.835524    0.000000   3.250000      1.0  \n",
       "max                5341.784253    1.000000   9.000000      1.0  "
      ]
     },
     "execution_count": 56,
     "metadata": {},
     "output_type": "execute_result"
    }
   ],
   "source": [
    "#details of users who earned above the mean and made a purchase\n",
    "users_data[(users_data['Income'] >= 60.56) & (users_data['Revenue'] == 1)].describe()"
   ]
  },
  {
   "cell_type": "code",
   "execution_count": 59,
   "metadata": {
    "colab": {
     "base_uri": "https://localhost:8080/"
    },
    "id": "LeWRvNhy-sGx",
    "outputId": "24983422-9ec9-40df-a54e-a69390fbb900"
   },
   "outputs": [
    {
     "data": {
      "text/plain": [
       "count     26.000000\n",
       "mean      57.653846\n",
       "std       26.398397\n",
       "min       15.000000\n",
       "25%       44.250000\n",
       "50%       57.000000\n",
       "75%       75.250000\n",
       "max      126.000000\n",
       "Name: Income, dtype: float64"
      ]
     },
     "execution_count": 59,
     "metadata": {},
     "output_type": "execute_result"
    }
   ],
   "source": [
    "#the income of everyone who made a purchase\n",
    "users_data[users_data['Revenue'] == 1]['Income'].describe()"
   ]
  },
  {
   "cell_type": "markdown",
   "metadata": {
    "id": "gkABwWSQBy5h"
   },
   "source": [
    "A little over half of the dataset earn above the mean income and made a purchase.\n",
    "\n",
    "In the entire dataset, only 12 people out of 102 with an annual income above the mean made a purchase. This is closely related to those earning below the mean income.\n",
    "\n",
    "Definitely, the annual income has no effect in deciding whether to buy or not."
   ]
  },
  {
   "cell_type": "code",
   "execution_count": 60,
   "metadata": {
    "colab": {
     "base_uri": "https://localhost:8080/"
    },
    "id": "uSe74REz9DCk",
    "outputId": "0a3c39e0-5805-4f86-bfde-01f7d002a83c"
   },
   "outputs": [
    {
     "data": {
      "text/plain": [
       "(70, 38.85, 18)"
      ]
     },
     "execution_count": 60,
     "metadata": {},
     "output_type": "execute_result"
    }
   ],
   "source": [
    "max(users_data['Age']), users_data['Age'].mean(), min(users_data['Age'])"
   ]
  },
  {
   "cell_type": "code",
   "execution_count": 61,
   "metadata": {
    "colab": {
     "base_uri": "https://localhost:8080/"
    },
    "collapsed": true,
    "id": "UsoMZI3DG4yb",
    "outputId": "89382f84-acac-4643-ad69-581a1c8bff03"
   },
   "outputs": [
    {
     "data": {
      "text/plain": [
       "count    12.000000\n",
       "mean     40.583333\n",
       "std      16.389899\n",
       "min      19.000000\n",
       "25%      28.000000\n",
       "50%      38.500000\n",
       "75%      54.500000\n",
       "max      68.000000\n",
       "Name: Age, dtype: float64"
      ]
     },
     "execution_count": 61,
     "metadata": {},
     "output_type": "execute_result"
    }
   ],
   "source": [
    "#age range of those who earned above the annual income and made a purchase\n",
    "users_data[(users_data['Income'] > 60.56) & (users_data['Revenue'] == 1)]['Age'].describe()"
   ]
  },
  {
   "cell_type": "code",
   "execution_count": 62,
   "metadata": {
    "colab": {
     "base_uri": "https://localhost:8080/"
    },
    "collapsed": true,
    "id": "ghOCHZgy5D3c",
    "outputId": "848111be-777a-428a-9ce4-a1a547f24757"
   },
   "outputs": [
    {
     "data": {
      "text/plain": [
       "count    14.000000\n",
       "mean     40.785714\n",
       "std      15.645980\n",
       "min      19.000000\n",
       "25%      29.500000\n",
       "50%      43.000000\n",
       "75%      49.500000\n",
       "max      64.000000\n",
       "Name: Age, dtype: float64"
      ]
     },
     "execution_count": 62,
     "metadata": {},
     "output_type": "execute_result"
    }
   ],
   "source": [
    "#age range of those earned below the annual income and made a purchase\n",
    "users_data[(users_data['Income'] <= 60.56) & (users_data['Revenue'] == 1)]['Age'].describe()"
   ]
  },
  {
   "cell_type": "code",
   "execution_count": 63,
   "metadata": {
    "colab": {
     "base_uri": "https://localhost:8080/"
    },
    "collapsed": true,
    "id": "Rn6YAb5Y94-4",
    "outputId": "46ab2f0f-4e7c-4264-f65b-7432aa4a17bb"
   },
   "outputs": [
    {
     "data": {
      "text/plain": [
       "count    174.000000\n",
       "mean      38.574713\n",
       "std       13.725747\n",
       "min       18.000000\n",
       "25%       29.000000\n",
       "50%       36.000000\n",
       "75%       48.000000\n",
       "max       70.000000\n",
       "Name: Age, dtype: float64"
      ]
     },
     "execution_count": 63,
     "metadata": {},
     "output_type": "execute_result"
    }
   ],
   "source": [
    "#the age range of people who made no purchase\n",
    "users_data[users_data['Revenue'] == 0]['Age'].describe()"
   ]
  },
  {
   "cell_type": "markdown",
   "metadata": {
    "id": "bR5GAV9N8wwc"
   },
   "source": [
    "\n",
    "More people who earned lesser than the mean income made a purchases. Most of them were below the mean age of 38."
   ]
  },
  {
   "cell_type": "markdown",
   "metadata": {
    "id": "KDHpQBwy8f8o"
   },
   "source": [
    "**Q.) How often were purchases done on weekends?**\n",
    "\n"
   ]
  },
  {
   "cell_type": "code",
   "execution_count": 66,
   "metadata": {
    "colab": {
     "base_uri": "https://localhost:8080/"
    },
    "id": "DC8cqgSoJ6M3",
    "outputId": "bef6a7a4-3285-4f2e-f01b-0b30c223fb39"
   },
   "outputs": [
    {
     "data": {
      "text/plain": [
       "7"
      ]
     },
     "execution_count": 66,
     "metadata": {},
     "output_type": "execute_result"
    }
   ],
   "source": [
    "users_data[(users_data['Revenue'] == 1) & (users_data['Weekend'] == True)].shape[0]"
   ]
  },
  {
   "cell_type": "code",
   "execution_count": 67,
   "metadata": {
    "colab": {
     "base_uri": "https://localhost:8080/"
    },
    "id": "ruWWpsFTKFfv",
    "outputId": "ec971efd-7277-4239-a5b2-485f4f3f1c82"
   },
   "outputs": [
    {
     "data": {
      "text/plain": [
       "19"
      ]
     },
     "execution_count": 67,
     "metadata": {},
     "output_type": "execute_result"
    }
   ],
   "source": [
    "users_data[(users_data['Revenue'] == 1) & (users_data['Weekend'] == False)].shape[0]"
   ]
  },
  {
   "cell_type": "markdown",
   "metadata": {
    "id": "Qs7ga5hLKNz8"
   },
   "source": [
    "There are more purchases on weekdays than on weekends. "
   ]
  },
  {
   "cell_type": "markdown",
   "metadata": {
    "id": "FC6-spAFR5B_"
   },
   "source": [
    "# **CONCLUSION**:\n",
    "\n",
    "1. The website has a lot of loyal customers.\n",
    "2. Majority of visitors use browser 2 and OS 2.\n",
    "3. Page value settings was not consistent across the sessions.\n",
    "4. The website has a good bounce and exit rates.\n",
    "5. More Visitors shopped on weekdays."
   ]
  }
 ],
 "metadata": {
  "colab": {
   "collapsed_sections": [],
   "include_colab_link": true,
   "name": "Analysis_of_an_Online_shopping_data.ipynb",
   "provenance": []
  },
  "kernelspec": {
   "display_name": "Python 3 (ipykernel)",
   "language": "python",
   "name": "python3"
  },
  "language_info": {
   "codemirror_mode": {
    "name": "ipython",
    "version": 3
   },
   "file_extension": ".py",
   "mimetype": "text/x-python",
   "name": "python",
   "nbconvert_exporter": "python",
   "pygments_lexer": "ipython3",
   "version": "3.9.7"
  }
 },
 "nbformat": 4,
 "nbformat_minor": 1
}
